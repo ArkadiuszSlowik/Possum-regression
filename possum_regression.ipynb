{
 "cells": [
  {
   "cell_type": "markdown",
   "id": "35bd7b0f-a5a6-4799-a15e-7f1b29e9f5a5",
   "metadata": {},
   "source": [
    "<h1> Possum Regression </h1>\n",
    "https://www.kaggle.com/datasets/abrambeyer/openintro-possum?datasetId=1534513&sortBy=voteCount\n",
    "<h2> Introduction </h2>"
   ]
  },
  {
   "cell_type": "markdown",
   "id": "d829a5ef-3bc7-434c-9bb5-66815e9ed0f0",
   "metadata": {},
   "source": [
    "An objective of this work is to consolidate and use part of the knowledge gained from the book \"Hands-on Machine Learning with Scikit-Learn, Keras, and TensorFlow\".\n",
    "\n",
    "Our goal is to predict the age of given possum. The problem is supervised and multiple regression type. I will use batch learning, because there is no particular need to adjust to changing data rapidly, the dataset is small and there is no continous stream of data coming.\n",
    "\n",
    "Root Mean Square Error (RMSE) as a performance measure is a common cost function in regression tasks, so that will be my choice."
   ]
  },
  {
   "attachments": {
    "bd767c60-3101-48d6-850a-808976ce6450.png": {
     "image/png": "[encoded data removed]"
    }
   },
   "cell_type": "markdown",
   "id": "cd3d2ed6-96ca-4037-b15d-6b1f01cbb1e2",
   "metadata": {},
   "source": [
    "![image.png](attachment:bd767c60-3101-48d6-850a-808976ce6450.png)"
   ]
  },
  {
   "cell_type": "markdown",
   "id": "879b9f60-82c1-46ac-a80c-4300f9c5822c",
   "metadata": {},
   "source": [
    "<h2> Libraries and settings</h2>"
   ]
  },
  {
   "cell_type": "code",
   "execution_count": 149,
   "id": "cb3466d9-07d7-4f37-9e38-1048a3331555",
   "metadata": {},
   "outputs": [],
   "source": [
    "import pandas as pd\n",
    "from pandas.api.types import is_numeric_dtype\n",
    "import matplotlib.pyplot as plt\n",
    "import numpy as np\n",
    "from sklearn.model_selection import train_test_split\n",
    "from sklearn.impute import SimpleImputer\n",
    "from scipy import stats\n",
    "from scipy.stats import wasserstein_distance\n",
    "from pandas.plotting import scatter_matrix\n",
    "from sklearn.preprocessing import OneHotEncoder\n",
    "from sklearn.pipeline import Pipeline\n",
    "from sklearn.preprocessing import StandardScaler\n",
    "from sklearn.compose import ColumnTransformer\n",
    "from pprint import pprint\n",
    "\n",
    "from sklearn.linear_model import LinearRegression\n",
    "from sklearn.metrics import mean_squared_error\n",
    "from sklearn.tree import DecisionTreeRegressor\n",
    "from sklearn.model_selection import cross_val_score\n",
    "from sklearn.ensemble import RandomForestRegressor\n",
    "from sklearn import svm\n",
    "from sklearn.svm import SVR\n",
    "from sklearn import linear_model\n",
    "from sklearn.preprocessing import StandardScaler\n",
    "from sklearn.kernel_ridge import KernelRidge\n",
    "from sklearn.gaussian_process import GaussianProcessRegressor\n",
    "\n",
    "%run ml_functions.ipynb\n",
    "%run custom_transformers.ipynb\n",
    "\n",
    "np.random.seed(42)"
   ]
  },
  {
   "cell_type": "markdown",
   "id": "24d6e14b-edf7-4bd6-944d-3ba912be07d6",
   "metadata": {},
   "source": [
    "<h2>Load the data <h2>"
   ]
  },
  {
   "cell_type": "code",
   "execution_count": 2,
   "id": "c41cc1f8-5ad7-4210-a5a3-e879125fe7fe",
   "metadata": {},
   "outputs": [],
   "source": [
    "df = pd.read_csv('data/possum.csv')"
   ]
  },
  {
   "cell_type": "markdown",
   "id": "0f221ea0-597b-4389-b1ef-72aabf6971a2",
   "metadata": {},
   "source": [
    "<h3> Take a quick look </h3>"
   ]
  },
  {
   "cell_type": "code",
   "execution_count": 3,
   "id": "531dfa56-9eee-4578-ae2a-386b013d0f10",
   "metadata": {},
   "outputs": [
    {
     "data": {
      "text/html": [
       "<div>\n",
       "<style scoped>\n",
       "    .dataframe tbody tr th:only-of-type {\n",
       "        vertical-align: middle;\n",
       "    }\n",
       "\n",
       "    .dataframe tbody tr th {\n",
       "        vertical-align: top;\n",
       "    }\n",
       "\n",
       "    .dataframe thead th {\n",
       "        text-align: right;\n",
       "    }\n",
       "</style>\n",
       "<table border=\"1\" class=\"dataframe\">\n",
       "  <thead>\n",
       "    <tr style=\"text-align: right;\">\n",
       "      <th></th>\n",
       "      <th>case</th>\n",
       "      <th>site</th>\n",
       "      <th>Pop</th>\n",
       "      <th>sex</th>\n",
       "      <th>age</th>\n",
       "      <th>hdlngth</th>\n",
       "      <th>skullw</th>\n",
       "      <th>totlngth</th>\n",
       "      <th>taill</th>\n",
       "      <th>footlgth</th>\n",
       "      <th>earconch</th>\n",
       "      <th>eye</th>\n",
       "      <th>chest</th>\n",
       "      <th>belly</th>\n",
       "    </tr>\n",
       "  </thead>\n",
       "  <tbody>\n",
       "    <tr>\n",
       "      <th>0</th>\n",
       "      <td>1</td>\n",
       "      <td>1</td>\n",
       "      <td>Vic</td>\n",
       "      <td>m</td>\n",
       "      <td>8.0</td>\n",
       "      <td>94.1</td>\n",
       "      <td>60.4</td>\n",
       "      <td>89.0</td>\n",
       "      <td>36.0</td>\n",
       "      <td>74.5</td>\n",
       "      <td>54.5</td>\n",
       "      <td>15.2</td>\n",
       "      <td>28.0</td>\n",
       "      <td>36.0</td>\n",
       "    </tr>\n",
       "    <tr>\n",
       "      <th>1</th>\n",
       "      <td>2</td>\n",
       "      <td>1</td>\n",
       "      <td>Vic</td>\n",
       "      <td>f</td>\n",
       "      <td>6.0</td>\n",
       "      <td>92.5</td>\n",
       "      <td>57.6</td>\n",
       "      <td>91.5</td>\n",
       "      <td>36.5</td>\n",
       "      <td>72.5</td>\n",
       "      <td>51.2</td>\n",
       "      <td>16.0</td>\n",
       "      <td>28.5</td>\n",
       "      <td>33.0</td>\n",
       "    </tr>\n",
       "    <tr>\n",
       "      <th>2</th>\n",
       "      <td>3</td>\n",
       "      <td>1</td>\n",
       "      <td>Vic</td>\n",
       "      <td>f</td>\n",
       "      <td>6.0</td>\n",
       "      <td>94.0</td>\n",
       "      <td>60.0</td>\n",
       "      <td>95.5</td>\n",
       "      <td>39.0</td>\n",
       "      <td>75.4</td>\n",
       "      <td>51.9</td>\n",
       "      <td>15.5</td>\n",
       "      <td>30.0</td>\n",
       "      <td>34.0</td>\n",
       "    </tr>\n",
       "    <tr>\n",
       "      <th>3</th>\n",
       "      <td>4</td>\n",
       "      <td>1</td>\n",
       "      <td>Vic</td>\n",
       "      <td>f</td>\n",
       "      <td>6.0</td>\n",
       "      <td>93.2</td>\n",
       "      <td>57.1</td>\n",
       "      <td>92.0</td>\n",
       "      <td>38.0</td>\n",
       "      <td>76.1</td>\n",
       "      <td>52.2</td>\n",
       "      <td>15.2</td>\n",
       "      <td>28.0</td>\n",
       "      <td>34.0</td>\n",
       "    </tr>\n",
       "    <tr>\n",
       "      <th>4</th>\n",
       "      <td>5</td>\n",
       "      <td>1</td>\n",
       "      <td>Vic</td>\n",
       "      <td>f</td>\n",
       "      <td>2.0</td>\n",
       "      <td>91.5</td>\n",
       "      <td>56.3</td>\n",
       "      <td>85.5</td>\n",
       "      <td>36.0</td>\n",
       "      <td>71.0</td>\n",
       "      <td>53.2</td>\n",
       "      <td>15.1</td>\n",
       "      <td>28.5</td>\n",
       "      <td>33.0</td>\n",
       "    </tr>\n",
       "  </tbody>\n",
       "</table>\n",
       "</div>"
      ],
      "text/plain": [
       "   case  site  Pop sex  age  hdlngth  skullw  totlngth  taill  footlgth  \\\n",
       "0     1     1  Vic   m  8.0     94.1    60.4      89.0   36.0      74.5   \n",
       "1     2     1  Vic   f  6.0     92.5    57.6      91.5   36.5      72.5   \n",
       "2     3     1  Vic   f  6.0     94.0    60.0      95.5   39.0      75.4   \n",
       "3     4     1  Vic   f  6.0     93.2    57.1      92.0   38.0      76.1   \n",
       "4     5     1  Vic   f  2.0     91.5    56.3      85.5   36.0      71.0   \n",
       "\n",
       "   earconch   eye  chest  belly  \n",
       "0      54.5  15.2   28.0   36.0  \n",
       "1      51.2  16.0   28.5   33.0  \n",
       "2      51.9  15.5   30.0   34.0  \n",
       "3      52.2  15.2   28.0   34.0  \n",
       "4      53.2  15.1   28.5   33.0  "
      ]
     },
     "execution_count": 3,
     "metadata": {},
     "output_type": "execute_result"
    }
   ],
   "source": [
    "df.head()"
   ]
  },
  {
   "cell_type": "code",
   "execution_count": 4,
   "id": "4b2d0913-05b1-4745-ba8e-d35fb9db3069",
   "metadata": {},
   "outputs": [
    {
     "data": {
      "text/plain": [
       "Index(['case', 'site', 'Pop', 'sex', 'age', 'hdlngth', 'skullw', 'totlngth',\n",
       "       'taill', 'footlgth', 'earconch', 'eye', 'chest', 'belly'],\n",
       "      dtype='object')"
      ]
     },
     "execution_count": 4,
     "metadata": {},
     "output_type": "execute_result"
    }
   ],
   "source": [
    "df.columns"
   ]
  },
  {
   "cell_type": "code",
   "execution_count": 5,
   "id": "d5eb777e-a642-4a9e-83de-7f6f2e99909d",
   "metadata": {},
   "outputs": [
    {
     "data": {
      "text/plain": [
       "(104, 14)"
      ]
     },
     "execution_count": 5,
     "metadata": {},
     "output_type": "execute_result"
    }
   ],
   "source": [
    "df.shape"
   ]
  },
  {
   "cell_type": "markdown",
   "id": "afed578d-6bf3-432b-b555-eceb36f202bf",
   "metadata": {},
   "source": [
    "There are 14 attributes including one dependent variable - 'age' and 104 instances. It means dataset is very small by ML standards."
   ]
  },
  {
   "cell_type": "code",
   "execution_count": 6,
   "id": "fc70230a-d28e-4da8-a778-e2b297ec6b8e",
   "metadata": {},
   "outputs": [
    {
     "name": "stdout",
     "output_type": "stream",
     "text": [
      "<class 'pandas.core.frame.DataFrame'>\n",
      "RangeIndex: 104 entries, 0 to 103\n",
      "Data columns (total 14 columns):\n",
      " #   Column    Non-Null Count  Dtype  \n",
      "---  ------    --------------  -----  \n",
      " 0   case      104 non-null    int64  \n",
      " 1   site      104 non-null    int64  \n",
      " 2   Pop       104 non-null    object \n",
      " 3   sex       104 non-null    object \n",
      " 4   age       102 non-null    float64\n",
      " 5   hdlngth   104 non-null    float64\n",
      " 6   skullw    104 non-null    float64\n",
      " 7   totlngth  104 non-null    float64\n",
      " 8   taill     104 non-null    float64\n",
      " 9   footlgth  103 non-null    float64\n",
      " 10  earconch  104 non-null    float64\n",
      " 11  eye       104 non-null    float64\n",
      " 12  chest     104 non-null    float64\n",
      " 13  belly     104 non-null    float64\n",
      "dtypes: float64(10), int64(2), object(2)\n",
      "memory usage: 11.5+ KB\n"
     ]
    }
   ],
   "source": [
    "df.info()"
   ]
  },
  {
   "cell_type": "markdown",
   "id": "612c745e-01af-46c2-86b6-e91cc91730c7",
   "metadata": {},
   "source": [
    "<h3>Some at first glance data cleaning</h3>"
   ]
  },
  {
   "cell_type": "markdown",
   "id": "c65485af-e6c6-4a76-806b-3de2f9802925",
   "metadata": {},
   "source": [
    "In column 'age' 2 entries are missing and in column footlngth 1 entry is missing. There are no missing values in other columns. Because the gaps in the data are insignificant, we are not doing anything about it at the moment.\n",
    "\n",
    "10 of columns are float-type. Columns of object-type are: Pop, sex. Columns of int-type are: case, site. from a dataset description we know in real that Pop, sex and site are categorical attributes."
   ]
  },
  {
   "cell_type": "code",
   "execution_count": 7,
   "id": "b3ed1b9b-e28e-4735-aa1d-27e20555bc1d",
   "metadata": {},
   "outputs": [],
   "source": [
    "df[\"Pop\"] = df[\"Pop\"].astype('category')\n",
    "df[\"sex\"] = df[\"sex\"].astype('category')\n",
    "df[\"site\"] = df[\"site\"].astype('category')"
   ]
  },
  {
   "cell_type": "markdown",
   "id": "90abe670-d188-4f95-938c-280aecf88247",
   "metadata": {},
   "source": [
    "We can also change 'Pop' name column to 'pop', which fits better to other column names."
   ]
  },
  {
   "cell_type": "code",
   "execution_count": 8,
   "id": "7effd91d-efac-4974-9aea-2c4629caab20",
   "metadata": {},
   "outputs": [],
   "source": [
    "df = df.rename(columns={\"Pop\":\"pop\"})"
   ]
  },
  {
   "cell_type": "markdown",
   "id": "65f2ddde-3cc8-495b-85dd-d45417c782b2",
   "metadata": {},
   "source": [
    "The next point is, case column is useless, because rows have indexes."
   ]
  },
  {
   "cell_type": "code",
   "execution_count": 9,
   "id": "5851880d-5e6b-425c-b6b2-6506f8d8431d",
   "metadata": {},
   "outputs": [],
   "source": [
    "del df[\"case\"]"
   ]
  },
  {
   "cell_type": "markdown",
   "id": "bb845be3-5803-4045-b1aa-d7162c169a30",
   "metadata": {},
   "source": [
    "Now we have 10 float type and 3 category type attributes."
   ]
  },
  {
   "cell_type": "code",
   "execution_count": 10,
   "id": "6a0daf66-864c-41de-a3c3-4ba959b2d53d",
   "metadata": {},
   "outputs": [
    {
     "data": {
      "text/html": [
       "<div>\n",
       "<style scoped>\n",
       "    .dataframe tbody tr th:only-of-type {\n",
       "        vertical-align: middle;\n",
       "    }\n",
       "\n",
       "    .dataframe tbody tr th {\n",
       "        vertical-align: top;\n",
       "    }\n",
       "\n",
       "    .dataframe thead th {\n",
       "        text-align: right;\n",
       "    }\n",
       "</style>\n",
       "<table border=\"1\" class=\"dataframe\">\n",
       "  <thead>\n",
       "    <tr style=\"text-align: right;\">\n",
       "      <th></th>\n",
       "      <th>site</th>\n",
       "      <th>pop</th>\n",
       "      <th>sex</th>\n",
       "      <th>age</th>\n",
       "      <th>hdlngth</th>\n",
       "      <th>skullw</th>\n",
       "      <th>totlngth</th>\n",
       "      <th>taill</th>\n",
       "      <th>footlgth</th>\n",
       "      <th>earconch</th>\n",
       "      <th>eye</th>\n",
       "      <th>chest</th>\n",
       "      <th>belly</th>\n",
       "    </tr>\n",
       "  </thead>\n",
       "  <tbody>\n",
       "    <tr>\n",
       "      <th>0</th>\n",
       "      <td>1</td>\n",
       "      <td>Vic</td>\n",
       "      <td>m</td>\n",
       "      <td>8.0</td>\n",
       "      <td>94.1</td>\n",
       "      <td>60.4</td>\n",
       "      <td>89.0</td>\n",
       "      <td>36.0</td>\n",
       "      <td>74.5</td>\n",
       "      <td>54.5</td>\n",
       "      <td>15.2</td>\n",
       "      <td>28.0</td>\n",
       "      <td>36.0</td>\n",
       "    </tr>\n",
       "    <tr>\n",
       "      <th>1</th>\n",
       "      <td>1</td>\n",
       "      <td>Vic</td>\n",
       "      <td>f</td>\n",
       "      <td>6.0</td>\n",
       "      <td>92.5</td>\n",
       "      <td>57.6</td>\n",
       "      <td>91.5</td>\n",
       "      <td>36.5</td>\n",
       "      <td>72.5</td>\n",
       "      <td>51.2</td>\n",
       "      <td>16.0</td>\n",
       "      <td>28.5</td>\n",
       "      <td>33.0</td>\n",
       "    </tr>\n",
       "    <tr>\n",
       "      <th>2</th>\n",
       "      <td>1</td>\n",
       "      <td>Vic</td>\n",
       "      <td>f</td>\n",
       "      <td>6.0</td>\n",
       "      <td>94.0</td>\n",
       "      <td>60.0</td>\n",
       "      <td>95.5</td>\n",
       "      <td>39.0</td>\n",
       "      <td>75.4</td>\n",
       "      <td>51.9</td>\n",
       "      <td>15.5</td>\n",
       "      <td>30.0</td>\n",
       "      <td>34.0</td>\n",
       "    </tr>\n",
       "    <tr>\n",
       "      <th>3</th>\n",
       "      <td>1</td>\n",
       "      <td>Vic</td>\n",
       "      <td>f</td>\n",
       "      <td>6.0</td>\n",
       "      <td>93.2</td>\n",
       "      <td>57.1</td>\n",
       "      <td>92.0</td>\n",
       "      <td>38.0</td>\n",
       "      <td>76.1</td>\n",
       "      <td>52.2</td>\n",
       "      <td>15.2</td>\n",
       "      <td>28.0</td>\n",
       "      <td>34.0</td>\n",
       "    </tr>\n",
       "    <tr>\n",
       "      <th>4</th>\n",
       "      <td>1</td>\n",
       "      <td>Vic</td>\n",
       "      <td>f</td>\n",
       "      <td>2.0</td>\n",
       "      <td>91.5</td>\n",
       "      <td>56.3</td>\n",
       "      <td>85.5</td>\n",
       "      <td>36.0</td>\n",
       "      <td>71.0</td>\n",
       "      <td>53.2</td>\n",
       "      <td>15.1</td>\n",
       "      <td>28.5</td>\n",
       "      <td>33.0</td>\n",
       "    </tr>\n",
       "  </tbody>\n",
       "</table>\n",
       "</div>"
      ],
      "text/plain": [
       "  site  pop sex  age  hdlngth  skullw  totlngth  taill  footlgth  earconch  \\\n",
       "0    1  Vic   m  8.0     94.1    60.4      89.0   36.0      74.5      54.5   \n",
       "1    1  Vic   f  6.0     92.5    57.6      91.5   36.5      72.5      51.2   \n",
       "2    1  Vic   f  6.0     94.0    60.0      95.5   39.0      75.4      51.9   \n",
       "3    1  Vic   f  6.0     93.2    57.1      92.0   38.0      76.1      52.2   \n",
       "4    1  Vic   f  2.0     91.5    56.3      85.5   36.0      71.0      53.2   \n",
       "\n",
       "    eye  chest  belly  \n",
       "0  15.2   28.0   36.0  \n",
       "1  16.0   28.5   33.0  \n",
       "2  15.5   30.0   34.0  \n",
       "3  15.2   28.0   34.0  \n",
       "4  15.1   28.5   33.0  "
      ]
     },
     "execution_count": 10,
     "metadata": {},
     "output_type": "execute_result"
    }
   ],
   "source": [
    "df.head()"
   ]
  },
  {
   "cell_type": "code",
   "execution_count": 11,
   "id": "b9ba672b-3f96-4d02-9fda-801b23b199ee",
   "metadata": {},
   "outputs": [
    {
     "name": "stdout",
     "output_type": "stream",
     "text": [
      "m    61\n",
      "f    43\n",
      "Name: sex, dtype: int64\n",
      "other    58\n",
      "Vic      46\n",
      "Name: pop, dtype: int64\n",
      "1    33\n",
      "7    18\n",
      "2    13\n",
      "5    13\n",
      "6    13\n",
      "3     7\n",
      "4     7\n",
      "Name: site, dtype: int64\n"
     ]
    }
   ],
   "source": [
    "print(df[\"sex\"].value_counts())\n",
    "print(df[\"pop\"].value_counts())\n",
    "print(df[\"site\"].value_counts())"
   ]
  },
  {
   "cell_type": "markdown",
   "id": "c40fca1c-d436-4aea-a1a5-d415c08620db",
   "metadata": {},
   "source": [
    "We can see that both 'sex' and 'pop' categorical attributes are of a binary type and both values are nearly equally distributed in them. 'site' attribute is a little bit imbalanced."
   ]
  },
  {
   "cell_type": "code",
   "execution_count": 12,
   "id": "8d82cfcf-6bd5-4405-b517-33c9cb6af44f",
   "metadata": {},
   "outputs": [
    {
     "data": {
      "text/html": [
       "<div>\n",
       "<style scoped>\n",
       "    .dataframe tbody tr th:only-of-type {\n",
       "        vertical-align: middle;\n",
       "    }\n",
       "\n",
       "    .dataframe tbody tr th {\n",
       "        vertical-align: top;\n",
       "    }\n",
       "\n",
       "    .dataframe thead th {\n",
       "        text-align: right;\n",
       "    }\n",
       "</style>\n",
       "<table border=\"1\" class=\"dataframe\">\n",
       "  <thead>\n",
       "    <tr style=\"text-align: right;\">\n",
       "      <th></th>\n",
       "      <th>age</th>\n",
       "      <th>hdlngth</th>\n",
       "      <th>skullw</th>\n",
       "      <th>totlngth</th>\n",
       "      <th>taill</th>\n",
       "      <th>footlgth</th>\n",
       "      <th>earconch</th>\n",
       "      <th>eye</th>\n",
       "      <th>chest</th>\n",
       "      <th>belly</th>\n",
       "    </tr>\n",
       "  </thead>\n",
       "  <tbody>\n",
       "    <tr>\n",
       "      <th>count</th>\n",
       "      <td>102.000000</td>\n",
       "      <td>104.000000</td>\n",
       "      <td>104.000000</td>\n",
       "      <td>104.000000</td>\n",
       "      <td>104.000000</td>\n",
       "      <td>103.000000</td>\n",
       "      <td>104.000000</td>\n",
       "      <td>104.000000</td>\n",
       "      <td>104.000000</td>\n",
       "      <td>104.000000</td>\n",
       "    </tr>\n",
       "    <tr>\n",
       "      <th>mean</th>\n",
       "      <td>3.833333</td>\n",
       "      <td>92.602885</td>\n",
       "      <td>56.883654</td>\n",
       "      <td>87.088462</td>\n",
       "      <td>37.009615</td>\n",
       "      <td>68.459223</td>\n",
       "      <td>48.130769</td>\n",
       "      <td>15.046154</td>\n",
       "      <td>27.000000</td>\n",
       "      <td>32.586538</td>\n",
       "    </tr>\n",
       "    <tr>\n",
       "      <th>std</th>\n",
       "      <td>1.909244</td>\n",
       "      <td>3.573349</td>\n",
       "      <td>3.113426</td>\n",
       "      <td>4.310549</td>\n",
       "      <td>1.959518</td>\n",
       "      <td>4.395306</td>\n",
       "      <td>4.109380</td>\n",
       "      <td>1.050374</td>\n",
       "      <td>2.045597</td>\n",
       "      <td>2.761949</td>\n",
       "    </tr>\n",
       "    <tr>\n",
       "      <th>min</th>\n",
       "      <td>1.000000</td>\n",
       "      <td>82.500000</td>\n",
       "      <td>50.000000</td>\n",
       "      <td>75.000000</td>\n",
       "      <td>32.000000</td>\n",
       "      <td>60.300000</td>\n",
       "      <td>40.300000</td>\n",
       "      <td>12.800000</td>\n",
       "      <td>22.000000</td>\n",
       "      <td>25.000000</td>\n",
       "    </tr>\n",
       "    <tr>\n",
       "      <th>25%</th>\n",
       "      <td>2.250000</td>\n",
       "      <td>90.675000</td>\n",
       "      <td>54.975000</td>\n",
       "      <td>84.000000</td>\n",
       "      <td>35.875000</td>\n",
       "      <td>64.600000</td>\n",
       "      <td>44.800000</td>\n",
       "      <td>14.400000</td>\n",
       "      <td>25.500000</td>\n",
       "      <td>31.000000</td>\n",
       "    </tr>\n",
       "    <tr>\n",
       "      <th>50%</th>\n",
       "      <td>3.000000</td>\n",
       "      <td>92.800000</td>\n",
       "      <td>56.350000</td>\n",
       "      <td>88.000000</td>\n",
       "      <td>37.000000</td>\n",
       "      <td>68.000000</td>\n",
       "      <td>46.800000</td>\n",
       "      <td>14.900000</td>\n",
       "      <td>27.000000</td>\n",
       "      <td>32.500000</td>\n",
       "    </tr>\n",
       "    <tr>\n",
       "      <th>75%</th>\n",
       "      <td>5.000000</td>\n",
       "      <td>94.725000</td>\n",
       "      <td>58.100000</td>\n",
       "      <td>90.000000</td>\n",
       "      <td>38.000000</td>\n",
       "      <td>72.500000</td>\n",
       "      <td>52.000000</td>\n",
       "      <td>15.725000</td>\n",
       "      <td>28.000000</td>\n",
       "      <td>34.125000</td>\n",
       "    </tr>\n",
       "    <tr>\n",
       "      <th>max</th>\n",
       "      <td>9.000000</td>\n",
       "      <td>103.100000</td>\n",
       "      <td>68.600000</td>\n",
       "      <td>96.500000</td>\n",
       "      <td>43.000000</td>\n",
       "      <td>77.900000</td>\n",
       "      <td>56.200000</td>\n",
       "      <td>17.800000</td>\n",
       "      <td>32.000000</td>\n",
       "      <td>40.000000</td>\n",
       "    </tr>\n",
       "  </tbody>\n",
       "</table>\n",
       "</div>"
      ],
      "text/plain": [
       "              age     hdlngth      skullw    totlngth       taill    footlgth  \\\n",
       "count  102.000000  104.000000  104.000000  104.000000  104.000000  103.000000   \n",
       "mean     3.833333   92.602885   56.883654   87.088462   37.009615   68.459223   \n",
       "std      1.909244    3.573349    3.113426    4.310549    1.959518    4.395306   \n",
       "min      1.000000   82.500000   50.000000   75.000000   32.000000   60.300000   \n",
       "25%      2.250000   90.675000   54.975000   84.000000   35.875000   64.600000   \n",
       "50%      3.000000   92.800000   56.350000   88.000000   37.000000   68.000000   \n",
       "75%      5.000000   94.725000   58.100000   90.000000   38.000000   72.500000   \n",
       "max      9.000000  103.100000   68.600000   96.500000   43.000000   77.900000   \n",
       "\n",
       "         earconch         eye       chest       belly  \n",
       "count  104.000000  104.000000  104.000000  104.000000  \n",
       "mean    48.130769   15.046154   27.000000   32.586538  \n",
       "std      4.109380    1.050374    2.045597    2.761949  \n",
       "min     40.300000   12.800000   22.000000   25.000000  \n",
       "25%     44.800000   14.400000   25.500000   31.000000  \n",
       "50%     46.800000   14.900000   27.000000   32.500000  \n",
       "75%     52.000000   15.725000   28.000000   34.125000  \n",
       "max     56.200000   17.800000   32.000000   40.000000  "
      ]
     },
     "execution_count": 12,
     "metadata": {},
     "output_type": "execute_result"
    }
   ],
   "source": [
    "df.describe()"
   ]
  },
  {
   "cell_type": "markdown",
   "id": "b98302b4-6861-463d-88f0-17fd12f1eedc",
   "metadata": {},
   "source": [
    "Summary of the numerical attributes may be useful later."
   ]
  },
  {
   "cell_type": "code",
   "execution_count": 13,
   "id": "0d9f68ec-ecff-4d10-a80a-b2963d637aa0",
   "metadata": {},
   "outputs": [
    {
     "data": {
      "text/plain": [
       "array([[<AxesSubplot:title={'center':'age'}>,\n",
       "        <AxesSubplot:title={'center':'hdlngth'}>,\n",
       "        <AxesSubplot:title={'center':'skullw'}>],\n",
       "       [<AxesSubplot:title={'center':'totlngth'}>,\n",
       "        <AxesSubplot:title={'center':'taill'}>,\n",
       "        <AxesSubplot:title={'center':'footlgth'}>],\n",
       "       [<AxesSubplot:title={'center':'earconch'}>,\n",
       "        <AxesSubplot:title={'center':'eye'}>,\n",
       "        <AxesSubplot:title={'center':'chest'}>],\n",
       "       [<AxesSubplot:title={'center':'belly'}>, <AxesSubplot:>,\n",
       "        <AxesSubplot:>]], dtype=object)"
      ]
     },
     "execution_count": 13,
     "metadata": {},
     "output_type": "execute_result"
    },
    {
     "data": {
      "image/png": "[encoded data removed]",
      "text/plain": [
       "<Figure size 864x648 with 12 Axes>"
      ]
     },
     "metadata": {
      "needs_background": "light"
     },
     "output_type": "display_data"
    }
   ],
   "source": [
    "df.hist(figsize=(12,9))"
   ]
  },
  {
   "cell_type": "markdown",
   "id": "f67253bd-21c0-46cd-94f7-6239faea38a4",
   "metadata": {},
   "source": [
    "Histograms show us that we shouldn't really be concerned about aspects such as: attributes of very different scales or tail heavy data. However, we will take a better look at these histograms later, during preprocessing process. Additionally, we can see that data doesn't contain outliers, what is one of the factors in favor of changing rmse to another performance measure."
   ]
  },
  {
   "cell_type": "markdown",
   "id": "bca20a40-ef82-44c9-bc57-a8c36f3236e8",
   "metadata": {},
   "source": [
    "<h3> Test set and training set </h3>"
   ]
  },
  {
   "cell_type": "markdown",
   "id": "5d3d7460-222a-4420-8187-529ca5b9e8d3",
   "metadata": {},
   "source": [
    "Now, let's check if any of attributes is highly correlated with dependent variable. "
   ]
  },
  {
   "cell_type": "code",
   "execution_count": 14,
   "id": "28e06898-4b0c-49cd-be1b-88916261901b",
   "metadata": {},
   "outputs": [
    {
     "data": {
      "text/plain": [
       "age         1.000000\n",
       "belly       0.354298\n",
       "chest       0.334209\n",
       "hdlngth     0.319022\n",
       "skullw      0.285107\n",
       "totlngth    0.260280\n",
       "eye         0.235553\n",
       "footlgth    0.126190\n",
       "taill       0.118241\n",
       "earconch    0.053405\n",
       "Name: age, dtype: float64"
      ]
     },
     "execution_count": 14,
     "metadata": {},
     "output_type": "execute_result"
    }
   ],
   "source": [
    "corr_matrix = df.corr()\n",
    "corr_matrix[\"age\"].sort_values(ascending=False)"
   ]
  },
  {
   "cell_type": "markdown",
   "id": "4f545721-dd99-4d18-bd2d-db38e8e39f3b",
   "metadata": {},
   "source": [
    "No, there is no high correlation, so we don't need to be aware of sampling bias using standard random sampling."
   ]
  },
  {
   "cell_type": "code",
   "execution_count": 15,
   "id": "cf9b3c31-2aa0-4ece-9fb3-3b6407f34a4c",
   "metadata": {},
   "outputs": [],
   "source": [
    "train_set, test_set = train_test_split(df, test_size=0.2, random_state=42)"
   ]
  },
  {
   "cell_type": "markdown",
   "id": "2b333092-96da-46eb-bd5b-bc1f3c68931b",
   "metadata": {},
   "source": [
    "Now we put test_set aside and start working on train_set only."
   ]
  },
  {
   "cell_type": "markdown",
   "id": "348658ed-af3d-408d-93d2-0081d888d694",
   "metadata": {},
   "source": [
    "<h2> Discover and visualize </h2>"
   ]
  },
  {
   "cell_type": "markdown",
   "id": "9705e3c3-6de2-4e67-8fba-fc72f2719b61",
   "metadata": {},
   "source": [
    "<h3> Histograms </h3>"
   ]
  },
  {
   "cell_type": "markdown",
   "id": "20e38846-cc5a-4b8c-b545-7d0455767214",
   "metadata": {},
   "source": [
    "At first, let's deduce something from histograms of the train_set."
   ]
  },
  {
   "cell_type": "code",
   "execution_count": 16,
   "id": "f1573037-d7fd-4893-8b9b-186b82398325",
   "metadata": {},
   "outputs": [
    {
     "data": {
      "text/plain": [
       "array([[<AxesSubplot:title={'center':'age'}>,\n",
       "        <AxesSubplot:title={'center':'hdlngth'}>,\n",
       "        <AxesSubplot:title={'center':'skullw'}>],\n",
       "       [<AxesSubplot:title={'center':'totlngth'}>,\n",
       "        <AxesSubplot:title={'center':'taill'}>,\n",
       "        <AxesSubplot:title={'center':'footlgth'}>],\n",
       "       [<AxesSubplot:title={'center':'earconch'}>,\n",
       "        <AxesSubplot:title={'center':'eye'}>,\n",
       "        <AxesSubplot:title={'center':'chest'}>],\n",
       "       [<AxesSubplot:title={'center':'belly'}>, <AxesSubplot:>,\n",
       "        <AxesSubplot:>]], dtype=object)"
      ]
     },
     "execution_count": 16,
     "metadata": {},
     "output_type": "execute_result"
    },
    {
     "data": {
      "image/png": "[encoded data removed]",
      "text/plain": [
       "<Figure size 864x648 with 12 Axes>"
      ]
     },
     "metadata": {
      "needs_background": "light"
     },
     "output_type": "display_data"
    }
   ],
   "source": [
    "train_set.hist(figsize=(12,9))"
   ]
  },
  {
   "cell_type": "markdown",
   "id": "555820cf-b3f0-4d02-bf3a-11c160d3cf91",
   "metadata": {},
   "source": [
    "Wasserstein distance is a metric in the space of probability measures, which can measure distance between histograms."
   ]
  },
  {
   "cell_type": "code",
   "execution_count": 17,
   "id": "7626ce98-7fdf-406a-a5d0-cb41948ccdb6",
   "metadata": {
    "tags": []
   },
   "outputs": [
    {
     "name": "stdout",
     "output_type": "stream",
     "text": [
      "For  age  and  hdlngth Wasserstein distance is  nan\n",
      "For  age  and  skullw Wasserstein distance is  nan\n",
      "For  age  and  totlngth Wasserstein distance is  nan\n",
      "For  age  and  taill Wasserstein distance is  nan\n",
      "For  age  and  footlgth Wasserstein distance is  nan\n",
      "For  age  and  earconch Wasserstein distance is  nan\n",
      "For  age  and  eye Wasserstein distance is  nan\n",
      "For  age  and  chest Wasserstein distance is  nan\n",
      "For  age  and  belly Wasserstein distance is  nan\n",
      "For  hdlngth  and  skullw Wasserstein distance is  35.628915662650606\n",
      "For  hdlngth  and  totlngth Wasserstein distance is  5.381927710843373\n",
      "For  hdlngth  and  taill Wasserstein distance is  55.46265060240963\n",
      "For  hdlngth  and  footlgth Wasserstein distance is  nan\n",
      "For  hdlngth  and  earconch Wasserstein distance is  44.42168674698795\n",
      "For  hdlngth  and  eye Wasserstein distance is  77.43855421686749\n",
      "For  hdlngth  and  chest Wasserstein distance is  65.55903614457831\n",
      "For  hdlngth  and  belly Wasserstein distance is  60.046987951807225\n",
      "For  skullw  and  totlngth Wasserstein distance is  30.246987951807228\n",
      "For  skullw  and  taill Wasserstein distance is  19.83373493975904\n",
      "For  skullw  and  footlgth Wasserstein distance is  nan\n",
      "For  skullw  and  earconch Wasserstein distance is  8.79277108433735\n",
      "For  skullw  and  eye Wasserstein distance is  41.80963855421686\n",
      "For  skullw  and  chest Wasserstein distance is  29.93012048192771\n",
      "For  skullw  and  belly Wasserstein distance is  24.418072289156626\n",
      "For  totlngth  and  taill Wasserstein distance is  50.08072289156626\n",
      "For  totlngth  and  footlgth Wasserstein distance is  nan\n",
      "For  totlngth  and  earconch Wasserstein distance is  39.039759036144574\n",
      "For  totlngth  and  eye Wasserstein distance is  72.0566265060241\n",
      "For  totlngth  and  chest Wasserstein distance is  60.177108433734944\n",
      "For  totlngth  and  belly Wasserstein distance is  54.665060240963854\n",
      "For  taill  and  footlgth Wasserstein distance is  nan\n",
      "For  taill  and  earconch Wasserstein distance is  11.040963855421685\n",
      "For  taill  and  eye Wasserstein distance is  21.97590361445783\n",
      "For  taill  and  chest Wasserstein distance is  10.096385542168676\n",
      "For  taill  and  belly Wasserstein distance is  4.584337349397591\n",
      "For  footlgth  and  earconch Wasserstein distance is  nan\n",
      "For  footlgth  and  eye Wasserstein distance is  nan\n",
      "For  footlgth  and  chest Wasserstein distance is  nan\n",
      "For  footlgth  and  belly Wasserstein distance is  nan\n",
      "For  earconch  and  eye Wasserstein distance is  33.016867469879514\n",
      "For  earconch  and  chest Wasserstein distance is  21.137349397590363\n",
      "For  earconch  and  belly Wasserstein distance is  15.625301204819277\n",
      "For  eye  and  chest Wasserstein distance is  11.879518072289155\n",
      "For  eye  and  belly Wasserstein distance is  17.391566265060238\n",
      "For  chest  and  belly Wasserstein distance is  5.512048192771085\n"
     ]
    }
   ],
   "source": [
    "columns = train_set.columns\n",
    "\n",
    "for i in range(len(train_set.columns)):\n",
    "    if is_numeric_dtype(train_set[train_set.columns[i]]):\n",
    "        for j in range(i+1,len(train_set.columns)):\n",
    "            if is_numeric_dtype(train_set[train_set.columns[j]]):\n",
    "                print('For ', train_set.columns[i], ' and ', train_set.columns[j], 'Wasserstein distance is ', wasserstein_distance(train_set[train_set.columns[i]], train_set[train_set.columns[j]]) )"
   ]
  },
  {
   "cell_type": "markdown",
   "id": "d1418f9f-10f0-4fc3-a4d7-987efe85e4bb",
   "metadata": {},
   "source": [
    "Pairs of histograms close to each other are: (hdlngth, totlngth), (taill, belly) and (chest, belly). Potentially we can use this information during feature engineering."
   ]
  },
  {
   "cell_type": "markdown",
   "id": "dfc592b4-5749-4f1f-a10e-df8fc65b9a9b",
   "metadata": {},
   "source": [
    "<h3> Correlations </h3>"
   ]
  },
  {
   "cell_type": "markdown",
   "id": "c4bc2e57-d97a-4b1c-bada-8c2ea1db952e",
   "metadata": {},
   "source": [
    "Let's check a correlation for numeric variables."
   ]
  },
  {
   "cell_type": "code",
   "execution_count": 18,
   "id": "5729db72-8b8c-44b7-95b6-894a7e969d0e",
   "metadata": {},
   "outputs": [
    {
     "data": {
      "text/plain": [
       "age         1.000000\n",
       "hdlngth     0.254740\n",
       "skullw      0.192840\n",
       "totlngth    0.244830\n",
       "taill       0.098013\n",
       "footlgth    0.045257\n",
       "earconch    0.037012\n",
       "eye         0.220969\n",
       "chest       0.204392\n",
       "belly       0.283273\n",
       "Name: age, dtype: float64"
      ]
     },
     "execution_count": 18,
     "metadata": {},
     "output_type": "execute_result"
    }
   ],
   "source": [
    "train_set.corr()[\"age\"]"
   ]
  },
  {
   "cell_type": "markdown",
   "id": "3aa86796-c4c3-435f-b187-d7666d4d137f",
   "metadata": {},
   "source": [
    "As we can see, correlation levels are very low."
   ]
  },
  {
   "cell_type": "markdown",
   "id": "444b9254-17e3-4563-afaf-657506fe55e7",
   "metadata": {},
   "source": [
    "Now, let's check a correlation for categorical attributes (pop, sex, site). Function that we are going to use requires that data has no nans, so let's just drop them for a while."
   ]
  },
  {
   "cell_type": "code",
   "execution_count": 19,
   "id": "11f3c36d-41cc-4b74-9763-8d818610ea81",
   "metadata": {},
   "outputs": [],
   "source": [
    "train_set_new = train_set.copy()"
   ]
  },
  {
   "cell_type": "markdown",
   "id": "2630de9e-10b7-4215-83e4-1312f4b4434f",
   "metadata": {},
   "source": [
    "Let's add binary columns that respond columns 'pop' and 'sex'"
   ]
  },
  {
   "cell_type": "code",
   "execution_count": 20,
   "id": "17119028-ead5-413c-a438-06959349d82a",
   "metadata": {},
   "outputs": [
    {
     "data": {
      "text/html": [
       "<div>\n",
       "<style scoped>\n",
       "    .dataframe tbody tr th:only-of-type {\n",
       "        vertical-align: middle;\n",
       "    }\n",
       "\n",
       "    .dataframe tbody tr th {\n",
       "        vertical-align: top;\n",
       "    }\n",
       "\n",
       "    .dataframe thead th {\n",
       "        text-align: right;\n",
       "    }\n",
       "</style>\n",
       "<table border=\"1\" class=\"dataframe\">\n",
       "  <thead>\n",
       "    <tr style=\"text-align: right;\">\n",
       "      <th></th>\n",
       "      <th>site</th>\n",
       "      <th>pop</th>\n",
       "      <th>sex</th>\n",
       "      <th>age</th>\n",
       "      <th>hdlngth</th>\n",
       "      <th>skullw</th>\n",
       "      <th>totlngth</th>\n",
       "      <th>taill</th>\n",
       "      <th>footlgth</th>\n",
       "      <th>earconch</th>\n",
       "      <th>eye</th>\n",
       "      <th>chest</th>\n",
       "      <th>belly</th>\n",
       "      <th>pop-bin</th>\n",
       "      <th>sex-bin</th>\n",
       "    </tr>\n",
       "  </thead>\n",
       "  <tbody>\n",
       "    <tr>\n",
       "      <th>1</th>\n",
       "      <td>1</td>\n",
       "      <td>Vic</td>\n",
       "      <td>f</td>\n",
       "      <td>6.0</td>\n",
       "      <td>92.5</td>\n",
       "      <td>57.6</td>\n",
       "      <td>91.5</td>\n",
       "      <td>36.5</td>\n",
       "      <td>72.5</td>\n",
       "      <td>51.2</td>\n",
       "      <td>16.0</td>\n",
       "      <td>28.5</td>\n",
       "      <td>33.0</td>\n",
       "      <td>1.0</td>\n",
       "      <td>1</td>\n",
       "    </tr>\n",
       "    <tr>\n",
       "      <th>2</th>\n",
       "      <td>1</td>\n",
       "      <td>Vic</td>\n",
       "      <td>f</td>\n",
       "      <td>6.0</td>\n",
       "      <td>94.0</td>\n",
       "      <td>60.0</td>\n",
       "      <td>95.5</td>\n",
       "      <td>39.0</td>\n",
       "      <td>75.4</td>\n",
       "      <td>51.9</td>\n",
       "      <td>15.5</td>\n",
       "      <td>30.0</td>\n",
       "      <td>34.0</td>\n",
       "      <td>1.0</td>\n",
       "      <td>1</td>\n",
       "    </tr>\n",
       "    <tr>\n",
       "      <th>3</th>\n",
       "      <td>1</td>\n",
       "      <td>Vic</td>\n",
       "      <td>f</td>\n",
       "      <td>6.0</td>\n",
       "      <td>93.2</td>\n",
       "      <td>57.1</td>\n",
       "      <td>92.0</td>\n",
       "      <td>38.0</td>\n",
       "      <td>76.1</td>\n",
       "      <td>52.2</td>\n",
       "      <td>15.2</td>\n",
       "      <td>28.0</td>\n",
       "      <td>34.0</td>\n",
       "      <td>1.0</td>\n",
       "      <td>1</td>\n",
       "    </tr>\n",
       "    <tr>\n",
       "      <th>5</th>\n",
       "      <td>1</td>\n",
       "      <td>Vic</td>\n",
       "      <td>f</td>\n",
       "      <td>1.0</td>\n",
       "      <td>93.1</td>\n",
       "      <td>54.8</td>\n",
       "      <td>90.5</td>\n",
       "      <td>35.5</td>\n",
       "      <td>73.2</td>\n",
       "      <td>53.6</td>\n",
       "      <td>14.2</td>\n",
       "      <td>30.0</td>\n",
       "      <td>32.0</td>\n",
       "      <td>1.0</td>\n",
       "      <td>1</td>\n",
       "    </tr>\n",
       "    <tr>\n",
       "      <th>6</th>\n",
       "      <td>1</td>\n",
       "      <td>Vic</td>\n",
       "      <td>m</td>\n",
       "      <td>2.0</td>\n",
       "      <td>95.3</td>\n",
       "      <td>58.2</td>\n",
       "      <td>89.5</td>\n",
       "      <td>36.0</td>\n",
       "      <td>71.5</td>\n",
       "      <td>52.0</td>\n",
       "      <td>14.2</td>\n",
       "      <td>30.0</td>\n",
       "      <td>34.5</td>\n",
       "      <td>1.0</td>\n",
       "      <td>0</td>\n",
       "    </tr>\n",
       "  </tbody>\n",
       "</table>\n",
       "</div>"
      ],
      "text/plain": [
       "  site  pop sex  age  hdlngth  skullw  totlngth  taill  footlgth  earconch  \\\n",
       "1    1  Vic   f  6.0     92.5    57.6      91.5   36.5      72.5      51.2   \n",
       "2    1  Vic   f  6.0     94.0    60.0      95.5   39.0      75.4      51.9   \n",
       "3    1  Vic   f  6.0     93.2    57.1      92.0   38.0      76.1      52.2   \n",
       "5    1  Vic   f  1.0     93.1    54.8      90.5   35.5      73.2      53.6   \n",
       "6    1  Vic   m  2.0     95.3    58.2      89.5   36.0      71.5      52.0   \n",
       "\n",
       "    eye  chest  belly pop-bin sex-bin  \n",
       "1  16.0   28.5   33.0     1.0       1  \n",
       "2  15.5   30.0   34.0     1.0       1  \n",
       "3  15.2   28.0   34.0     1.0       1  \n",
       "5  14.2   30.0   32.0     1.0       1  \n",
       "6  14.2   30.0   34.5     1.0       0  "
      ]
     },
     "execution_count": 20,
     "metadata": {},
     "output_type": "execute_result"
    }
   ],
   "source": [
    "dummy = pd.get_dummies(train_set_new[\"pop\"])\n",
    "train_set_new = pd.concat((train_set_new, dummy), axis=1)\n",
    "del train_set_new[\"other\"]\n",
    "train_set_new = train_set_new.rename(columns={\"Vic\":\"pop-bin\"})\n",
    "\n",
    "dummy = pd.get_dummies(df[\"sex\"])\n",
    "train_set_new = pd.concat((train_set_new, dummy), axis=1)\n",
    "del train_set_new['m']\n",
    "train_set_new = train_set_new.rename(columns={\"f\":\"sex-bin\"})\n",
    "train_set_new.head()\n",
    "\n",
    "train_set_new[\"pop-bin\"] = train_set_new[\"pop-bin\"].astype('category')\n",
    "train_set_new[\"sex-bin\"] = train_set_new[\"sex-bin\"].astype('category')\n",
    "\n",
    "train_set_new = train_set_new.dropna()\n",
    "train_set_new.head()"
   ]
  },
  {
   "cell_type": "code",
   "execution_count": 21,
   "id": "a620143e-7641-4834-9ef6-cd7304960dad",
   "metadata": {},
   "outputs": [
    {
     "name": "stdout",
     "output_type": "stream",
     "text": [
      "PointbiserialrResult(correlation=0.08370838421598426, pvalue=0.4574990767891822)\n",
      "PointbiserialrResult(correlation=0.09748964259300605, pvalue=0.38658098861846485)\n"
     ]
    }
   ],
   "source": [
    "print(stats.pointbiserialr(train_set_new[\"pop-bin\"], train_set_new[\"age\"]))\n",
    "print(stats.pointbiserialr(train_set_new[\"sex-bin\"], train_set_new[\"age\"]))"
   ]
  },
  {
   "cell_type": "markdown",
   "id": "531f8d31-e4b6-437a-bf79-5055463b3809",
   "metadata": {},
   "source": [
    "So even if assumtions of this method are fulfilled, these correlations are not significant."
   ]
  },
  {
   "cell_type": "markdown",
   "id": "9625aca3-80f0-421d-933b-5fb2fd12eaff",
   "metadata": {},
   "source": [
    "For a multi categorical attribute we will try ruskal-Wallis H-test."
   ]
  },
  {
   "cell_type": "code",
   "execution_count": 22,
   "id": "d10b7f76-39d2-4b1c-b9c0-0059fa56e1c1",
   "metadata": {},
   "outputs": [
    {
     "data": {
      "text/plain": [
       "1    25\n",
       "7    13\n",
       "5    11\n",
       "6    11\n",
       "2     9\n",
       "3     6\n",
       "4     6\n",
       "Name: site, dtype: int64"
      ]
     },
     "execution_count": 22,
     "metadata": {},
     "output_type": "execute_result"
    }
   ],
   "source": [
    "train_set_new[\"site\"].value_counts()"
   ]
  },
  {
   "cell_type": "code",
   "execution_count": 23,
   "id": "05a7ac49-b0ce-4308-967c-2496f38076ad",
   "metadata": {},
   "outputs": [
    {
     "name": "stdout",
     "output_type": "stream",
     "text": [
      "KruskalResult(statistic=0.3395172088593224, pvalue=0.5601080307426141)\n",
      "KruskalResult(statistic=0.1417795109924597, pvalue=0.7065183074614497)\n",
      "KruskalResult(statistic=0.561735433647231, pvalue=0.4535618539169247)\n",
      "KruskalResult(statistic=2.005456853621326, pvalue=0.15673406872991036)\n",
      "KruskalResult(statistic=1.2790622918879813, pvalue=0.2580734590616538)\n",
      "KruskalResult(statistic=0.008454874681601976, pvalue=0.9267374535850667)\n",
      "KruskalResult(statistic=1.136838159720179, pvalue=0.28632143298397716)\n"
     ]
    }
   ],
   "source": [
    "group = [None] * 7\n",
    "\n",
    "for i in range(1,8):\n",
    "    group[i-1] = train_set_new[[\"age\"]].where(train_set_new[\"site\"] == i).dropna()[\"age\"].tolist()\n",
    "    print(stats.kruskal(group[i-1], train_set_new[\"age\"]))"
   ]
  },
  {
   "cell_type": "markdown",
   "id": "aa602941-8c9d-4565-829a-de20bcd816c5",
   "metadata": {},
   "source": [
    "Since for every group p-value is less than 0.05, we don't reject the null hypothesis that the median of group is same as in train_set for each group. So, we can expect that, site-grouping does not explain the variance to a great extent, hence correlation is low."
   ]
  },
  {
   "cell_type": "markdown",
   "id": "cfa9fef5-8b7f-4ef3-b8f8-adb80a8123f1",
   "metadata": {},
   "source": [
    "<h3> Attribute Combinations </h3>"
   ]
  },
  {
   "cell_type": "markdown",
   "id": "97e0c24a-a5ec-4c29-80b8-51ab112ff7e3",
   "metadata": {},
   "source": [
    "Since we have only 9 attributes describing possums body, let's just compute ratios between them."
   ]
  },
  {
   "cell_type": "code",
   "execution_count": 24,
   "id": "9ab06a42-27a7-44d0-b205-2cb0ac1b1156",
   "metadata": {},
   "outputs": [],
   "source": [
    "train_set_new = train_set.copy()\n",
    "\n",
    "body_columns = ['hdlngth', 'skullw', 'totlngth', 'taill', 'footlgth', 'earconch', 'eye', 'chest', 'belly']\n",
    "\n",
    "for i in range(9):\n",
    "    for j in range(i+1,9):\n",
    "        new_column = body_columns[i] + \" / \" + body_columns[j]\n",
    "        train_set_new[new_column] = train_set_new[body_columns[i]] / train_set_new[body_columns[j]]"
   ]
  },
  {
   "cell_type": "code",
   "execution_count": 25,
   "id": "3ee7791f-12fc-483b-9660-06eb3da959c4",
   "metadata": {},
   "outputs": [
    {
     "data": {
      "text/plain": [
       "age                    1.000000\n",
       "belly                  0.283273\n",
       "hdlngth                0.254740\n",
       "totlngth               0.244830\n",
       "eye                    0.220969\n",
       "chest                  0.204392\n",
       "skullw                 0.192840\n",
       "totlngth / footlgth    0.162309\n",
       "totlngth / taill       0.147566\n",
       "hdlngth / footlgth     0.141474\n",
       "skullw / footlgth      0.120056\n",
       "totlngth / earconch    0.099592\n",
       "taill                  0.098013\n",
       "hdlngth / earconch     0.087937\n",
       "skullw / earconch      0.084262\n",
       "hdlngth / taill        0.083814\n",
       "skullw / taill         0.081666\n",
       "footlgth               0.045257\n",
       "earconch               0.037012\n",
       "taill / footlgth       0.025634\n",
       "taill / earconch       0.018716\n",
       "hdlngth / skullw      -0.024388\n",
       "skullw / totlngth     -0.024991\n",
       "totlngth / eye        -0.027085\n",
       "eye / chest           -0.028092\n",
       "footlgth / earconch   -0.034156\n",
       "skullw / eye          -0.051047\n",
       "hdlngth / totlngth    -0.057181\n",
       "hdlngth / eye         -0.068390\n",
       "totlngth / chest      -0.074794\n",
       "eye / belly           -0.091034\n",
       "skullw / chest        -0.098670\n",
       "earconch / eye        -0.107609\n",
       "chest / belly         -0.110646\n",
       "hdlngth / chest       -0.111580\n",
       "taill / eye           -0.116237\n",
       "footlgth / eye        -0.125232\n",
       "taill / chest         -0.147681\n",
       "earconch / chest      -0.153394\n",
       "totlngth / belly      -0.163507\n",
       "skullw / belly        -0.167239\n",
       "hdlngth / belly       -0.198297\n",
       "footlgth / chest      -0.202875\n",
       "earconch / belly      -0.208473\n",
       "taill / belly         -0.218608\n",
       "footlgth / belly      -0.263342\n",
       "Name: age, dtype: float64"
      ]
     },
     "execution_count": 25,
     "metadata": {},
     "output_type": "execute_result"
    }
   ],
   "source": [
    "corr_matrix = train_set_new.corr()\n",
    "corr_matrix[\"age\"].sort_values(ascending=False)"
   ]
  },
  {
   "cell_type": "markdown",
   "id": "33f5e069-a902-4d78-ac32-fe6814613796",
   "metadata": {},
   "source": [
    "Again, correlations are on very low level."
   ]
  },
  {
   "cell_type": "markdown",
   "id": "89ca6387-b60b-44f3-8fbe-4b6cfa0bfef7",
   "metadata": {},
   "source": [
    "<h2> Prepare the data for ML algorithms </h2>\n",
    "<h3> Data Cleaning </h3>"
   ]
  },
  {
   "cell_type": "code",
   "execution_count": 26,
   "id": "2601a2f8-62ee-452b-a521-9746f01b8783",
   "metadata": {},
   "outputs": [],
   "source": [
    "train_set_new = train_set.drop(\"age\", axis=1)\n",
    "train_set_labels = train_set[\"age\"].copy()"
   ]
  },
  {
   "cell_type": "markdown",
   "id": "6eac7d57-a2e5-434e-80fc-4e32da285f83",
   "metadata": {},
   "source": [
    "Since most ML algorithms cannot deal with missing values and we are not sure that there won't be any missing values in new data, let's take a stretegy to replace numerical missing instances with the median of an attribute."
   ]
  },
  {
   "cell_type": "code",
   "execution_count": 27,
   "id": "4671ed4f-2e58-4eb8-a9a5-911e58586480",
   "metadata": {},
   "outputs": [
    {
     "data": {
      "text/plain": [
       "False"
      ]
     },
     "execution_count": 27,
     "metadata": {},
     "output_type": "execute_result"
    }
   ],
   "source": [
    "imputer = SimpleImputer(strategy='median')\n",
    "train_set_new_num = train_set_new.drop([\"site\", \"pop\", \"sex\"], axis=1)\n",
    "imputer.fit(train_set_new_num)\n",
    "X = imputer.transform(train_set_new_num)\n",
    "train_set_new_transformed = pd.DataFrame(X, columns=train_set_new_num.columns)\n",
    "\n",
    "train_set_new_transformed.isnull().values.any()"
   ]
  },
  {
   "cell_type": "markdown",
   "id": "db181a62-bef6-47b1-ad7c-57b72b60b072",
   "metadata": {},
   "source": [
    "Since ML algorithms prefer to work with number rather than with categogorical attributes, we will convert them to numerical."
   ]
  },
  {
   "cell_type": "code",
   "execution_count": 28,
   "id": "eb92a133-9850-440b-8fe2-234d5a4e720d",
   "metadata": {},
   "outputs": [],
   "source": [
    "train_set_new_cat = train_set_new[[\"site\", \"pop\", \"sex\"]]\n",
    "cat_encoder = OneHotEncoder()\n",
    "\n",
    "train_set_new_cat_encoded = cat_encoder.fit_transform(train_set_new_cat)\n",
    "\n",
    "train_set_new_cat_encoded = train_set_new_cat_encoded.toarray()"
   ]
  },
  {
   "cell_type": "code",
   "execution_count": 29,
   "id": "f058b06f-92d3-4846-9ffd-112367fb6f28",
   "metadata": {},
   "outputs": [
    {
     "data": {
      "text/plain": [
       "[array([1, 2, 3, 4, 5, 6, 7], dtype=int64),\n",
       " array(['Vic', 'other'], dtype=object),\n",
       " array(['f', 'm'], dtype=object)]"
      ]
     },
     "execution_count": 29,
     "metadata": {},
     "output_type": "execute_result"
    }
   ],
   "source": [
    "cat_encoder.categories_"
   ]
  },
  {
   "cell_type": "markdown",
   "id": "6dfeeb7b-bcc2-468a-a39a-77073f5a2eae",
   "metadata": {},
   "source": [
    "Let's create a Pipeline, to hold our transformations in more readable way. Despite the fact that, our data is very good scaled, we can additionaly do standarization, beacuse dataset is very small and it cost almost no time."
   ]
  },
  {
   "cell_type": "code",
   "execution_count": 30,
   "id": "3254c0e1-cd1a-453c-83b1-0962f5a67bb8",
   "metadata": {},
   "outputs": [],
   "source": [
    "num_pipeline = Pipeline([\n",
    "    ('imputer', SimpleImputer(strategy='median')),\n",
    "    ('attribs_adder', RatioAttributesAdder()),\n",
    "    ('std_scaler', StandardScaler()),\n",
    "    ])\n",
    "\n",
    "num_attribs = list(train_set_new_num.columns)\n",
    "cat_attribs = [\"site\", \"pop\", \"sex\"]\n",
    "\n",
    "pipeline = ColumnTransformer([\n",
    " (\"num\", num_pipeline, num_attribs),\n",
    " (\"cat\", OneHotEncoder(), cat_attribs),\n",
    " ])"
   ]
  },
  {
   "cell_type": "markdown",
   "id": "7c5c8aa6-2035-42cc-a6bd-ca1fb63d282d",
   "metadata": {},
   "source": [
    "Now, we will use it."
   ]
  },
  {
   "cell_type": "code",
   "execution_count": 31,
   "id": "4c407f6e-1611-46e5-982a-c7b8efd576dd",
   "metadata": {},
   "outputs": [
    {
     "data": {
      "text/plain": [
       "(83, 56)"
      ]
     },
     "execution_count": 31,
     "metadata": {},
     "output_type": "execute_result"
    }
   ],
   "source": [
    "train_set_new_ready = pipeline.fit_transform(train_set_new)\n",
    "train_set_new_ready.shape"
   ]
  },
  {
   "cell_type": "markdown",
   "id": "639af556-12cb-485c-8391-e9132d5d4790",
   "metadata": {},
   "source": [
    "We finished this section with set that contains 56 columns, ready to put into ML algorithm."
   ]
  },
  {
   "cell_type": "markdown",
   "id": "7a2f74ce-98e5-4a03-9dc0-589f97e1c6cd",
   "metadata": {},
   "source": [
    "<h2> Select and train a model </h2>\n",
    "<h3> This part of the project has been moved to a file named model_selection.ipynb </h3>"
   ]
  },
  {
   "cell_type": "code",
   "execution_count": null,
   "id": "f3faaee9-84a0-4d15-8898-79f7b2ceab87",
   "metadata": {},
   "outputs": [],
   "source": []
  },
  {
   "cell_type": "markdown",
   "id": "81bdb0a5-cd52-41ae-a966-4811d06d034d",
   "metadata": {},
   "source": [
    "<h2> Bibliography </h2>"
   ]
  },
  {
   "cell_type": "markdown",
   "id": "08e310bd-c01d-45e9-a0a3-ec6769cbddeb",
   "metadata": {},
   "source": [
    "https://medium.com/@outside2SDs/an-overview-of-correlation-measures-between-categorical-and-continuous-variables-4c7f85610365\n",
    "\n",
    "https://scikit-learn.org/stable/supervised_learning.html\n",
    "\n",
    "https://stats.stackexchange.com/questions/187335/validation-error-less-than-training-error"
   ]
  },
  {
   "cell_type": "code",
   "execution_count": null,
   "id": "1cb23ef3-786d-4a82-a410-84eee2c9e1ec",
   "metadata": {},
   "outputs": [],
   "source": []
  }
 ],
 "metadata": {
  "kernelspec": {
   "display_name": "Python 3 (ipykernel)",
   "language": "python",
   "name": "python3"
  },
  "language_info": {
   "codemirror_mode": {
    "name": "ipython",
    "version": 3
   },
   "file_extension": ".py",
   "mimetype": "text/x-python",
   "name": "python",
   "nbconvert_exporter": "python",
   "pygments_lexer": "ipython3",
   "version": "3.9.7"
  }
 },
 "nbformat": 4,
 "nbformat_minor": 5
}
