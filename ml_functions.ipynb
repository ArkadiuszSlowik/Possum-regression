{
 "cells": [
  {
   "cell_type": "code",
   "execution_count": 51,
   "id": "52f982b9-5f59-46f8-b803-35861100321c",
   "metadata": {},
   "outputs": [],
   "source": [
    "from sklearn import linear_model\n",
    "import numpy as np"
   ]
  },
  {
   "cell_type": "code",
   "execution_count": 20,
   "id": "1157e629-72d4-48e2-815c-b1fe362b795a",
   "metadata": {},
   "outputs": [],
   "source": [
    "def display_scores(scores):\n",
    "    print(\"Scores:\", scores)\n",
    "    print(\"Mean:\", scores.mean())\n",
    "    print(\"Standard deviation:\", scores.std())"
   ]
  },
  {
   "cell_type": "code",
   "execution_count": 55,
   "id": "d29b4735-e528-4891-83a8-b3be75c889fa",
   "metadata": {},
   "outputs": [],
   "source": [
    "def regression_linear_models(train_set_ready, train_set_labels, mod=[], cv=4,\n",
    "                             linreg_attr=[], ridge_attr=[], lasso_attr=[],\n",
    "                             elnet_attr=[], lars_attr=[], lassolars_attr=[],\n",
    "                             orthmatch_attr=[], bayes_attr=[], logreg_attr=[],\n",
    "                             sgd_attr=[], passagr_attr=[], huber_attr=[]):\n",
    "    \n",
    "    models = {'LinearRegression': {'rmse_training': -1, 'rmse_cv': -1, 'attr':linreg_attr },\n",
    "                   'Ridge': {'rmse_training': -1, 'rmse_cv': -1, 'attr':ridge_attr },\n",
    "                   'Lasso': {'rmse_training': -1, 'rmse_cv': -1, 'attr':lasso_attr },\n",
    "                   'ElasticNet': {'rmse_training': -1, 'rmse_cv': -1, 'attr':elnet_attr },\n",
    "                   'Lars': {'rmse_training': -1, 'rmse_cv': -1, 'attr':lars_attr },\n",
    "                   'LassoLars': {'rmse_training': -1, 'rmse_cv': -1, 'attr':lassolars_attr },\n",
    "                   'OrthogonalMatchingPursuit': {'rmse_training': -1, 'rmse_cv': -1, 'attr':orthmatch_attr },\n",
    "                   'BayesianRidge': {'rmse_training': -1, 'rmse_cv': -1, 'attr':bayes_attr },\n",
    "                   'LogisticRegression': {'rmse_training': -1, 'rmse_cv': -1, 'attr':logreg_attr },\n",
    "                   'SGDRegressor': {'rmse_training': -1, 'rmse_cv': -1, 'attr':sgd_attr },\n",
    "                   'PassiveAggressiveRegressor': {'rmse_training': -1, 'rmse_cv': -1, 'attr':passagr_attr },\n",
    "                   'HuberRegressor': {'rmse_training': -1, 'rmse_cv': -1, 'attr':huber_attr }\n",
    "                  }\n",
    "\n",
    "    train_set_labels = np.ravel(train_set_labels)\n",
    "    for k,v in sorted(models.items()):\n",
    "        if k in mod:\n",
    "            print(k,': ')\n",
    "            fun = getattr(linear_model, k)\n",
    "            #reg = fun(models[k]['attr'])\n",
    "            reg = fun()\n",
    "            reg.fit(train_set_ready, train_set_labels)\n",
    "\n",
    "            predictions = reg.predict(train_set_ready)\n",
    "\n",
    "            train_mse = mean_squared_error(predictions, train_set_labels)\n",
    "            v['rmse_training'] = np.sqrt(train_mse)\n",
    "\n",
    "            scores = cross_val_score(reg, train_set_new_ready, np.ravel(train_set_labels),\n",
    "                                          scoring=\"neg_mean_squared_error\", cv=cv)\n",
    "\n",
    "            v['rmse_cv'] = np.sqrt(-scores).mean()\n",
    "        \n",
    "    return models"
   ]
  },
  {
   "cell_type": "code",
   "execution_count": null,
   "id": "86650794-69c2-4907-8205-d7b2df19d174",
   "metadata": {},
   "outputs": [],
   "source": []
  }
 ],
 "metadata": {
  "kernelspec": {
   "display_name": "Python 3 (ipykernel)",
   "language": "python",
   "name": "python3"
  },
  "language_info": {
   "codemirror_mode": {
    "name": "ipython",
    "version": 3
   },
   "file_extension": ".py",
   "mimetype": "text/x-python",
   "name": "python",
   "nbconvert_exporter": "python",
   "pygments_lexer": "ipython3",
   "version": "3.9.7"
  }
 },
 "nbformat": 4,
 "nbformat_minor": 5
}
