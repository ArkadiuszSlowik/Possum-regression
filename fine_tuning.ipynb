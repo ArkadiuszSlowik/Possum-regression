{
 "cells": [
  {
   "cell_type": "markdown",
   "metadata": {},
   "source": [
    "<h1> Fine Tuning </h1>\n",
    "\n",
    "***Please switch a kernel to possum_regression.***"
   ]
  },
  {
   "cell_type": "code",
   "execution_count": 485,
   "metadata": {},
   "outputs": [],
   "source": [
    "%run ml_functions.ipynb"
   ]
  },
  {
   "cell_type": "code",
   "execution_count": 44,
   "metadata": {},
   "outputs": [],
   "source": [
    "X, y = train_set_new_ready, train_set_labels"
   ]
  },
  {
   "cell_type": "markdown",
   "metadata": {},
   "source": [
    "<h1> First Approach </h1>"
   ]
  },
  {
   "cell_type": "markdown",
   "metadata": {},
   "source": [
    "<h2> XGBRegressor (GradientBoostingRegressor) </h2>"
   ]
  },
  {
   "cell_type": "markdown",
   "metadata": {},
   "source": [
    "On a side note, XGBoost does the feature selection for us."
   ]
  },
  {
   "cell_type": "markdown",
   "metadata": {},
   "source": [
    "<h4> Fix learning rate and number of estimators </h4>"
   ]
  },
  {
   "cell_type": "markdown",
   "metadata": {},
   "source": [
    "We will start tuning with a set of parameters with common values. Additionaly let's set learning_rate to 0.1 and try to establish n_estimators value."
   ]
  },
  {
   "cell_type": "code",
   "execution_count": 134,
   "metadata": {},
   "outputs": [
    {
     "name": "stdout",
     "output_type": "stream",
     "text": [
      "(0.2304519789548993, 1.725707102139057, {'colsample_bytree': 0.8, 'gamma': 0, 'learning_rate': 0.1, 'max_depth': 5, 'min_child_weight': 1, 'n_estimators': 43, 'subsample': 0.8})\n",
      "\n"
     ]
    }
   ],
   "source": [
    "distributions = { 'learning_rate':[0.1], # fixed, 0.1 is a good value to start with, generally use sth in 0.05-0.3\n",
    "                  'n_estimators': randint(20,80), # 40-70\n",
    "                  'max_depth': [5], # 5-8\n",
    "                  'min_child_weight': [1], # dataset is very small, 1 should be at the beginning\n",
    "                  'gamma': [0], # good value to start is 0, also in 0.1 to 0.2\n",
    "                  'subsample': [0.8], # value to start should be in 0.5-0.9\n",
    "                  'colsample_bytree': [0.8], # value to start should be in 0.5-0.9\n",
    "                }\n",
    "\n",
    "print(regression_randomized_tuning(X, y, distributions, XGBRegressor(), n_iter=61, r_state=42))"
   ]
  },
  {
   "cell_type": "markdown",
   "metadata": {},
   "source": [
    "Let's set n_estimators to 43.\n",
    "\n",
    "<h4> Tune max_depth and min_child_weight </h4>"
   ]
  },
  {
   "cell_type": "code",
   "execution_count": 135,
   "metadata": {},
   "outputs": [
    {
     "name": "stdout",
     "output_type": "stream",
     "text": [
      "(1.2485443889419527, 1.668903323744559, {'subsample': 0.8, 'n_estimators': 43, 'min_child_weight': 4, 'max_depth': 1, 'learning_rate': 0.1, 'gamma': 0, 'colsample_bytree': 0.8})\n",
      "\n"
     ]
    }
   ],
   "source": [
    "distributions = { 'learning_rate':[0.1], # fixed\n",
    "                  'n_estimators': [43], # tuned\n",
    "                  'max_depth': [None, 1, 2, 3, 4, 5], # tuning\n",
    "                  'min_child_weight': [None, 1, 2, 3 , 4, 5, 6], # tuning\n",
    "                  'gamma': [0], # good value to start is 0, also in 0.1 to 0.2\n",
    "                  'subsample': [0.8], # value to start should be in 0.5-0.9\n",
    "                  'colsample_bytree': [0.8], # value to start should be in 0.5-0.9\n",
    "                }\n",
    "\n",
    "print(regression_randomized_tuning(X, y, distributions, XGBRegressor(), n_iter=42, r_state=42))"
   ]
  },
  {
   "cell_type": "markdown",
   "metadata": {},
   "source": [
    "As we can see, an optimal pair for these parameters is (1, 4)\n",
    "\n",
    "<h4> Tune gamma </h4>"
   ]
  },
  {
   "cell_type": "code",
   "execution_count": 136,
   "metadata": {},
   "outputs": [
    {
     "name": "stdout",
     "output_type": "stream",
     "text": [
      "(1.2485443889419527, 1.7056237368481366, {'colsample_bytree': 0.8, 'gamma': 0.5123620356542088, 'learning_rate': 0.1, 'max_depth': 1, 'min_child_weight': 4, 'n_estimators': 43, 'subsample': 0.8})\n",
      "\n"
     ]
    }
   ],
   "source": [
    "distributions = { 'learning_rate':[0.1], # fixed\n",
    "                  'n_estimators': [43], # tuned\n",
    "                  'max_depth': [1], # tuned\n",
    "                  'min_child_weight': [4], # tuned\n",
    "                  'gamma': uniform(loc=0.4, scale=0.3), # tuning\n",
    "                  'subsample': [0.8], # value to start should be in 0.5-0.9\n",
    "                  'colsample_bytree': [0.8], # value to start should be in 0.5-0.9\n",
    "                }\n",
    "\n",
    "print(regression_randomized_tuning(X, y, distributions, XGBRegressor(), n_iter=48, r_state=42))"
   ]
  },
  {
   "cell_type": "markdown",
   "metadata": {},
   "source": [
    "Let's update gamma and tune n_estimators again."
   ]
  },
  {
   "cell_type": "code",
   "execution_count": 137,
   "metadata": {},
   "outputs": [
    {
     "name": "stdout",
     "output_type": "stream",
     "text": [
      "(1.2099438214624203, 1.7044300475072558, {'colsample_bytree': 0.8, 'gamma': 0.51, 'learning_rate': 0.1, 'max_depth': 1, 'min_child_weight': 4, 'n_estimators': 49, 'subsample': 0.8})\n",
      "\n"
     ]
    }
   ],
   "source": [
    "distributions = { 'learning_rate':[0.1], # fixed\n",
    "                  'n_estimators': randint(20,80), # tuning\n",
    "                  'max_depth': [1], # tuned\n",
    "                  'min_child_weight': [4], # tuned\n",
    "                  'gamma': [0.51], # tuned\n",
    "                  'subsample': [0.8], # value to start should be in 0.5-0.9\n",
    "                  'colsample_bytree': [0.8], # value to start should be in 0.5-0.9\n",
    "                }\n",
    "\n",
    "print(regression_randomized_tuning(X, y, distributions, XGBRegressor(), n_iter=48, r_state=42))"
   ]
  },
  {
   "cell_type": "markdown",
   "metadata": {},
   "source": [
    "Now, we set n_estimators to 49."
   ]
  },
  {
   "cell_type": "markdown",
   "metadata": {},
   "source": [
    "<h4> Tune subsample and colsample_bytree </h4>"
   ]
  },
  {
   "cell_type": "code",
   "execution_count": 139,
   "metadata": {},
   "outputs": [
    {
     "name": "stdout",
     "output_type": "stream",
     "text": [
      "(1.2189847522223576, 1.7152590035573587, {'colsample_bytree': 0.677633994480005, 'gamma': 0.51, 'learning_rate': 0.1, 'max_depth': 1, 'min_child_weight': 4, 'n_estimators': 49, 'subsample': 0.7987566853061946})\n",
      "\n"
     ]
    }
   ],
   "source": [
    "distributions = { 'learning_rate':[0.1], # fixed\n",
    "                  'n_estimators': [49], # tuned x2\n",
    "                  'max_depth': [1], # tuned\n",
    "                  'min_child_weight': [4], # tuned\n",
    "                  'gamma': [0.51], # tuned\n",
    "                  'subsample': uniform(loc=0.6, scale=0.3), # tuning\n",
    "                  'colsample_bytree': uniform(loc=0.6, scale=0.3), # tuning\n",
    "                }\n",
    "\n",
    "print(regression_randomized_tuning(X, y, distributions, XGBRegressor(), n_iter=80, r_state=42))"
   ]
  },
  {
   "cell_type": "markdown",
   "metadata": {},
   "source": [
    "A good pair is (0.8, 0.68)\n",
    "\n",
    "<h4> Tuning Regularization Parameters </h4>"
   ]
  },
  {
   "cell_type": "code",
   "execution_count": 140,
   "metadata": {},
   "outputs": [
    {
     "name": "stdout",
     "output_type": "stream",
     "text": [
      "(1.3074638431001107, 1.7265690179540432, {'subsample': 0.8, 'reg_lambda': 10, 'reg_alpha': 0.001, 'n_estimators': 49, 'min_child_weight': 4, 'max_depth': 1, 'learning_rate': 0.1, 'gamma': 0.51, 'colsample_bytree': 0.68})\n",
      "\n"
     ]
    }
   ],
   "source": [
    "distributions = { 'learning_rate':[0.1], # fixed\n",
    "                  'n_estimators': [49], # tuned x2\n",
    "                  'max_depth': [1], # tuned\n",
    "                  'min_child_weight': [4], # tuned\n",
    "                  'gamma': [0.51], # tuned\n",
    "                  'subsample': [0.8], # tuned\n",
    "                  'colsample_bytree': [0.68], # tuned\n",
    "                  'reg_alpha': [0.00001, 0.0001, 0.001, 0.01, 0.1, 0, 1, 10 ,100, 1000], # tuning\n",
    "                  'reg_lambda': [0.00001, 0.0001, 0.001, 0.01, 0.1, 0, 1, 10 ,100, 1000], # tuning\n",
    "                }\n",
    "\n",
    "print(regression_randomized_tuning(X, y, distributions, XGBRegressor(), n_iter=81, r_state=42))"
   ]
  },
  {
   "cell_type": "markdown",
   "metadata": {},
   "source": [
    "Let's narrow down the search"
   ]
  },
  {
   "cell_type": "code",
   "execution_count": 141,
   "metadata": {},
   "outputs": [
    {
     "name": "stdout",
     "output_type": "stream",
     "text": [
      "(1.2639711696868277, 1.7119251415345833, {'colsample_bytree': 0.68, 'gamma': 0.51, 'learning_rate': 0.1, 'max_depth': 1, 'min_child_weight': 4, 'n_estimators': 49, 'reg_alpha': 0.00588280140996174, 'reg_lambda': 4.5582851058774665, 'subsample': 0.8})\n"
     ]
    }
   ],
   "source": [
    "distributions = { 'learning_rate':[0.1], # fixed\n",
    "                  'n_estimators': [49], # tuned x2\n",
    "                  'max_depth': [1], # tuned\n",
    "                  'min_child_weight': [4], # tuned\n",
    "                  'gamma': [0.51], # tuned\n",
    "                  'subsample': [0.8], # tuned\n",
    "                  'colsample_bytree': [0.68], # tuned\n",
    "                  'reg_alpha': uniform(loc=0.0001, scale=0.01), # tuning x2\n",
    "                  'reg_lambda': uniform(loc=1, scale=99), # tuning x2\n",
    "                }\n",
    "\n",
    "print(regression_randomized_tuning(X, y, distributions, XGBRegressor(), n_iter=160, r_state=42))"
   ]
  },
  {
   "cell_type": "code",
   "execution_count": 142,
   "metadata": {},
   "outputs": [
    {
     "name": "stdout",
     "output_type": "stream",
     "text": [
      "(1.2511079932398912, 1.703689847623607, {'colsample_bytree': 0.68, 'gamma': 0.51, 'learning_rate': 0.1, 'max_depth': 1, 'min_child_weight': 4, 'n_estimators': 49, 'reg_alpha': 0.0004887505167779041, 'reg_lambda': 3.6210622617823773, 'subsample': 0.8})\n"
     ]
    }
   ],
   "source": [
    "distributions = { 'learning_rate':[0.1], # fixed\n",
    "                  'n_estimators': [49], # tuned x2\n",
    "                  'max_depth': [1], # tuned\n",
    "                  'min_child_weight': [4], # tuned\n",
    "                  'gamma': [0.51], # tuned\n",
    "                  'subsample': [0.8], # tuned\n",
    "                  'colsample_bytree': [0.68], # tuned\n",
    "                  'reg_alpha': uniform(loc=0.0001, scale=0.0009), # tuning x3\n",
    "                  'reg_lambda': uniform(loc=1, scale=9), # tuning x3\n",
    "                }\n",
    "\n",
    "print(regression_randomized_tuning(X, y, distributions, XGBRegressor(), n_iter=160, r_state=42))"
   ]
  },
  {
   "cell_type": "markdown",
   "metadata": {},
   "source": [
    "Good values are for reg_alpha 0.0005, for reg_lambda 3.62"
   ]
  },
  {
   "cell_type": "markdown",
   "metadata": {},
   "source": [
    "<h4> Reducing Learning Rate </h4>"
   ]
  },
  {
   "cell_type": "markdown",
   "metadata": {
    "tags": []
   },
   "source": [
    "I did this stage, but it clearly don't help this time."
   ]
  },
  {
   "cell_type": "markdown",
   "metadata": {},
   "source": [
    "<h4> Final model </h4>"
   ]
  },
  {
   "cell_type": "code",
   "execution_count": 144,
   "metadata": {},
   "outputs": [
    {
     "name": "stdout",
     "output_type": "stream",
     "text": [
      "(1.2510986572004386, 1.7172635259575793, {'subsample': 0.8, 'reg_lambda': 3.62, 'reg_alpha': 0.0005, 'n_estimators': 49, 'min_child_weight': 4, 'max_depth': 1, 'learning_rate': 0.1, 'gamma': 0.51, 'colsample_bytree': 0.68})\n"
     ]
    }
   ],
   "source": [
    "distributions = { 'learning_rate':[0.1], # fixed\n",
    "                  'n_estimators': [49], # tuned x2\n",
    "                  'max_depth': [1], # tuned\n",
    "                  'min_child_weight': [4], # tuned\n",
    "                  'gamma': [0.51], # tuned\n",
    "                  'subsample': [0.8], # tuned\n",
    "                  'colsample_bytree': [0.68], # tuned\n",
    "                  'reg_alpha': [0.0005], # tuned\n",
    "                  'reg_lambda': [3.62], # tuned\n",
    "                }\n",
    "\n",
    "print(regression_randomized_tuning(X, y, distributions, XGBRegressor(), n_iter=1, r_state=42))"
   ]
  },
  {
   "cell_type": "markdown",
   "metadata": {},
   "source": [
    "<h4> Summary </h4>\n",
    "\n",
    "The best model obtained, don't overfit as much as the one before tuning. Also, it's cv_rmse is better, which is more important than rmse for a train set."
   ]
  },
  {
   "cell_type": "markdown",
   "metadata": {},
   "source": [
    "<h2> ExtraTreesRegressor </h2>"
   ]
  },
  {
   "cell_type": "markdown",
   "metadata": {},
   "source": [
    "<h4> Explore Number of Trees </h4>"
   ]
  },
  {
   "cell_type": "markdown",
   "metadata": {},
   "source": [
    "https://machinelearningmastery.com/extra-trees-ensemble-with-python/"
   ]
  },
  {
   "cell_type": "code",
   "execution_count": null,
   "metadata": {},
   "outputs": [],
   "source": [
    "distributions = { 'n_estimators': randint(20,180) # tuning\n",
    "                }\n",
    "\n",
    "print(regression_randomized_tuning(X, y, distributions, ensemble.ExtraTreesRegressor(), n_iter=161, r_state=42))"
   ]
  },
  {
   "cell_type": "markdown",
   "metadata": {},
   "source": [
    "<h4> Explore Number of Features </h4>"
   ]
  },
  {
   "cell_type": "code",
   "execution_count": null,
   "metadata": {},
   "outputs": [],
   "source": [
    "distributions = { 'n_estimators': [32], # tuned\n",
    "                  'max_features': [None, 1, 2, 3, 4, 5, 6, 7, 8, 9] # tuning\n",
    "                }\n",
    "\n",
    "print(regression_randomized_tuning(X, y, distributions, ensemble.ExtraTreesRegressor(), n_iter=10, r_state=42))"
   ]
  },
  {
   "cell_type": "markdown",
   "metadata": {},
   "source": [
    "<h4> Explore Minimum Samples per Split </h4>"
   ]
  },
  {
   "cell_type": "code",
   "execution_count": null,
   "metadata": {},
   "outputs": [],
   "source": [
    "distributions = { 'n_estimators': [32], # tuned\n",
    "                  'max_features': [6], # tuned\n",
    "                  'min_samples_split': randint(2,14)\n",
    "                }\n",
    "\n",
    "print(regression_randomized_tuning(X, y, distributions, ensemble.ExtraTreesRegressor(), n_iter=14, r_state=42))"
   ]
  },
  {
   "cell_type": "markdown",
   "metadata": {},
   "source": [
    "<h4> Max depth tuning </h4>"
   ]
  },
  {
   "cell_type": "code",
   "execution_count": null,
   "metadata": {},
   "outputs": [],
   "source": [
    "distributions = { 'n_estimators': [32], # tuned\n",
    "                  'max_features': [6], # tuned\n",
    "                  'min_samples_split': [8], # tuned\n",
    "                  'max_depth': [None, 9, 10, 11, 12, 13, 14, 15], # tuning \n",
    "                }\n",
    "\n",
    "print(regression_randomized_tuning(X, y, distributions, ensemble.ExtraTreesRegressor(), n_iter=8, r_state=42))"
   ]
  },
  {
   "cell_type": "markdown",
   "metadata": {},
   "source": [
    "<h4> Tuning other crucial hyperparameters </h4>"
   ]
  },
  {
   "cell_type": "code",
   "execution_count": null,
   "metadata": {},
   "outputs": [],
   "source": [
    "X, y = train_set_new_ready, train_set_labels\n",
    "\n",
    "distributions = { 'n_estimators': [32], # tuned\n",
    "                  'max_features': [6], # tuned\n",
    "                  'min_samples_split': [8], # tuned\n",
    "                  'max_depth': [9], # tuned \n",
    "                  'max_leaf_nodes': [None, 2, 3, 4, 5, 6, 7, 8], # tuning \n",
    "                  'max_samples': [None, 0.7, 0.8, 0.9, 1], # tuning \n",
    "                }\n",
    "\n",
    "print(regression_randomized_tuning(X, y, distributions, ensemble.ExtraTreesRegressor(), n_iter=40, r_state=42))"
   ]
  },
  {
   "cell_type": "markdown",
   "metadata": {},
   "source": [
    "At the end, let's re-tune n_estimators (mainly to prevent overfitting)."
   ]
  },
  {
   "cell_type": "code",
   "execution_count": null,
   "metadata": {},
   "outputs": [],
   "source": [
    "distributions = { 'n_estimators': randint(20, 180), # tuning x2\n",
    "                  'max_features': [6], # tuned\n",
    "                  'min_samples_split': [8], # tuned\n",
    "                  'max_depth': [9], # tuned \n",
    "                  'max_leaf_nodes': [None], # tuned \n",
    "                  'max_samples': [None], # tuned \n",
    "                }\n",
    "\n",
    "print(regression_randomized_tuning(X, y, distributions, ensemble.ExtraTreesRegressor(), n_iter=161, r_state=42))"
   ]
  },
  {
   "cell_type": "markdown",
   "metadata": {},
   "source": [
    "<h4> Final Model </h4>"
   ]
  },
  {
   "cell_type": "code",
   "execution_count": 157,
   "metadata": {},
   "outputs": [
    {
     "name": "stdout",
     "output_type": "stream",
     "text": [
      "(0.9446131396652445, 1.6977702805890822, {'n_estimators': 21, 'min_samples_split': 8, 'max_samples': None, 'max_leaf_nodes': None, 'max_features': 6, 'max_depth': 9})\n"
     ]
    }
   ],
   "source": [
    "X, y = train_set_new_ready, train_set_labels\n",
    "\n",
    "distributions = { 'n_estimators': [21], # tuning x2\n",
    "                  'max_features': [6], # tuned\n",
    "                  'min_samples_split': [8], # tuned\n",
    "                  'max_depth': [9], # tuned \n",
    "                  'max_leaf_nodes': [None], # tuned \n",
    "                  'max_samples': [None], # tuned \n",
    "                }\n",
    "\n",
    "print(regression_randomized_tuning(X, y, distributions, ensemble.ExtraTreesRegressor(), n_iter=1, r_state=42))"
   ]
  },
  {
   "cell_type": "markdown",
   "metadata": {},
   "source": [
    "<h4> Summary </h4>"
   ]
  },
  {
   "cell_type": "markdown",
   "metadata": {},
   "source": [
    "Unfortunately, rmse for train set is still much better than for cv."
   ]
  },
  {
   "cell_type": "markdown",
   "metadata": {},
   "source": [
    "<h2> RandomForestRegressor </h2>"
   ]
  },
  {
   "cell_type": "markdown",
   "metadata": {},
   "source": [
    "<h4> Tuning number of trees </h4>"
   ]
  },
  {
   "cell_type": "code",
   "execution_count": null,
   "metadata": {},
   "outputs": [],
   "source": [
    "distributions = { 'n_estimators': randint(20, 80), # tuning\n",
    "                }\n",
    "\n",
    "print(regression_randomized_tuning(X, y, distributions, ensemble.RandomForestRegressor(), n_iter=61, r_state=42))"
   ]
  },
  {
   "cell_type": "markdown",
   "metadata": {},
   "source": [
    "<h4> Tuning number of features </h4>"
   ]
  },
  {
   "cell_type": "code",
   "execution_count": null,
   "metadata": {},
   "outputs": [],
   "source": [
    "distributions = { 'n_estimators': [47], # tuned\n",
    "                  'max_features': randint(1,9), # tuning\n",
    "                }\n",
    "\n",
    "print(regression_randomized_tuning(X, y, distributions, ensemble.RandomForestRegressor(), n_iter=9, r_state=42))"
   ]
  },
  {
   "cell_type": "markdown",
   "metadata": {},
   "source": [
    "<h4> Tuning max_depth </h4>"
   ]
  },
  {
   "cell_type": "code",
   "execution_count": null,
   "metadata": {},
   "outputs": [],
   "source": [
    "distributions = { 'n_estimators': [47], # tuned\n",
    "                  'max_features': [4], # tuned\n",
    "                  'max_depth': [None, 1, 2, 3, 4, 5] # tuning\n",
    "                }\n",
    "\n",
    "print(regression_randomized_tuning(X, y, distributions, ensemble.RandomForestRegressor(), n_iter=6, r_state=42))"
   ]
  },
  {
   "cell_type": "markdown",
   "metadata": {},
   "source": [
    "<h4> Tuning other crucial hyperparameters </h4>"
   ]
  },
  {
   "cell_type": "code",
   "execution_count": null,
   "metadata": {},
   "outputs": [],
   "source": [
    "distributions = { 'n_estimators': [47], # tuned\n",
    "                  'max_features': [4], # tuned\n",
    "                  'max_depth': [5], # tuned\n",
    "                  'max_leaf_nodes': [None, 2, 3, 4, 5, 6], # tuning \n",
    "                  'max_samples': [None, 0.7, 0.8, 0.9, 1], # tuning \n",
    "                }\n",
    "\n",
    "print(regression_randomized_tuning(X, y, distributions, ensemble.RandomForestRegressor(), n_iter=30, r_state=42))"
   ]
  },
  {
   "cell_type": "markdown",
   "metadata": {},
   "source": [
    "At the end, let's re-tune n_estimators (mainly to prevent overfitting)."
   ]
  },
  {
   "cell_type": "code",
   "execution_count": null,
   "metadata": {},
   "outputs": [],
   "source": [
    "distributions = { 'n_estimators': randint(20,80), # tuning x2\n",
    "                  'max_features': [4], # tuned\n",
    "                  'max_depth': [5], # tuned\n",
    "                  'max_leaf_nodes': [4], # tuning \n",
    "                  'max_samples': [0.9], # tuning \n",
    "                }\n",
    "\n",
    "print(regression_randomized_tuning(X, y, distributions, ensemble.RandomForestRegressor(), n_iter=30, r_state=42))"
   ]
  },
  {
   "cell_type": "markdown",
   "metadata": {},
   "source": [
    "<h4> Final Model <h4>"
   ]
  },
  {
   "cell_type": "code",
   "execution_count": 153,
   "metadata": {},
   "outputs": [
    {
     "name": "stdout",
     "output_type": "stream",
     "text": [
      "(1.3651434704757237, 1.7171097459889522, {'n_estimators': 43, 'max_samples': 0.9, 'max_leaf_nodes': 4, 'max_features': 4, 'max_depth': 5})\n"
     ]
    }
   ],
   "source": [
    "distributions = { 'n_estimators': [43], # tuned\n",
    "                  'max_features': [4], # tuned\n",
    "                  'max_depth': [5], # tuned\n",
    "                  'max_leaf_nodes': [4], # tuning \n",
    "                  'max_samples': [0.9], # tuning \n",
    "                }\n",
    "\n",
    "print(regression_randomized_tuning(X, y, distributions, ensemble.RandomForestRegressor(), n_iter=1, r_state=42))"
   ]
  },
  {
   "cell_type": "markdown",
   "metadata": {},
   "source": [
    "<h4> Summary </h4>"
   ]
  },
  {
   "cell_type": "markdown",
   "metadata": {},
   "source": [
    "Again, we have largely prevented an overfitting."
   ]
  },
  {
   "cell_type": "markdown",
   "metadata": {},
   "source": [
    "<h1> Second Approach </h1>"
   ]
  },
  {
   "cell_type": "markdown",
   "metadata": {},
   "source": [
    "<h2> RandomForestRegressor </h2>"
   ]
  },
  {
   "cell_type": "markdown",
   "metadata": {},
   "source": [
    "<h4> Tuning number of trees </h4>"
   ]
  },
  {
   "cell_type": "code",
   "execution_count": 393,
   "metadata": {},
   "outputs": [
    {
     "name": "stdout",
     "output_type": "stream",
     "text": [
      "(0.6568380504278021, 1.7412595581861383, {'n_estimators': 70})\n"
     ]
    },
    {
     "data": {
      "text/html": [
       "\n",
       "                <audio controls=\"controls\" autoplay=\"autoplay\">\n",
       "                    <source src=\"data:audio/mpeg;base64,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\" type=\"audio/mpeg\" />\n",
       "                    Your browser does not support the audio element.\n",
       "                </audio>\n",
       "              "
      ],
      "text/plain": [
       "<IPython.lib.display.Audio object>"
      ]
     },
     "execution_count": 393,
     "metadata": {},
     "output_type": "execute_result"
    }
   ],
   "source": [
    "distributions = { 'n_estimators': randint(20, 80), # tuning\n",
    "                }\n",
    "\n",
    "print(regression_randomized_tuning(X, y, distributions, ensemble.RandomForestRegressor(), n_iter=61, r_state=42))"
   ]
  },
  {
   "cell_type": "markdown",
   "metadata": {},
   "source": [
    "<h4> Tuning number of features </h4>"
   ]
  },
  {
   "cell_type": "code",
   "execution_count": 394,
   "metadata": {},
   "outputs": [
    {
     "name": "stdout",
     "output_type": "stream",
     "text": [
      "(0.5974051030438702, 1.6053268279045483, {'max_features': 4, 'n_estimators': 70})\n"
     ]
    },
    {
     "data": {
      "text/html": [
       "\n",
       "                <audio controls=\"controls\" autoplay=\"autoplay\">\n",
       "                    <source src=\"data:audio/mpeg;base64,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\" type=\"audio/mpeg\" />\n",
       "                    Your browser does not support the audio element.\n",
       "                </audio>\n",
       "              "
      ],
      "text/plain": [
       "<IPython.lib.display.Audio object>"
      ]
     },
     "execution_count": 394,
     "metadata": {},
     "output_type": "execute_result"
    }
   ],
   "source": [
    "distributions = { 'n_estimators': [70], # tuned\n",
    "                  'max_features': randint(1,9), # tuning\n",
    "                }\n",
    "\n",
    "print(regression_randomized_tuning(X, y, distributions, ensemble.RandomForestRegressor(), n_iter=9, r_state=42))"
   ]
  },
  {
   "cell_type": "markdown",
   "metadata": {},
   "source": [
    "<h4> Tuning max_depth </h4>"
   ]
  },
  {
   "cell_type": "code",
   "execution_count": 395,
   "metadata": {},
   "outputs": [
    {
     "name": "stdout",
     "output_type": "stream",
     "text": [
      "(1.3109711674817301, 1.6765264728004179, {'n_estimators': 70, 'max_features': 4, 'max_depth': 3})\n"
     ]
    }
   ],
   "source": [
    "distributions = { 'n_estimators': [70], # tuned\n",
    "                  'max_features': [4], # tuned\n",
    "                  'max_depth': [None, 1, 2, 3, 4, 5] # tuning\n",
    "                }\n",
    "\n",
    "print(regression_randomized_tuning(X, y, distributions, ensemble.RandomForestRegressor(), n_iter=6, r_state=42))"
   ]
  },
  {
   "cell_type": "markdown",
   "metadata": {},
   "source": [
    "<h4> Tuning other crucial hyperparameters </h4>"
   ]
  },
  {
   "cell_type": "code",
   "execution_count": 396,
   "metadata": {},
   "outputs": [
    {
     "name": "stdout",
     "output_type": "stream",
     "text": [
      "(1.3395238077937672, 1.645106034018814, {'n_estimators': 70, 'max_samples': 0.9, 'max_leaf_nodes': 7, 'max_features': 4, 'max_depth': 3})\n"
     ]
    }
   ],
   "source": [
    "distributions = { 'n_estimators': [70], # tuned\n",
    "                  'max_features': [4], # tuned\n",
    "                  'max_depth': [3], # tuned\n",
    "                  'max_leaf_nodes': [None, 2, 3, 4, 5, 6, 7, 8], # tuning \n",
    "                  'max_samples': [None, 0.7, 0.8, 0.9, 1], # tuning \n",
    "                }\n",
    "\n",
    "print(regression_randomized_tuning(X, y, distributions, ensemble.RandomForestRegressor(), n_iter=40, r_state=42))"
   ]
  },
  {
   "cell_type": "markdown",
   "metadata": {},
   "source": [
    "At the end, let's re-tune n_estimators (mainly to prevent overfitting)."
   ]
  },
  {
   "cell_type": "code",
   "execution_count": 397,
   "metadata": {},
   "outputs": [
    {
     "name": "stdout",
     "output_type": "stream",
     "text": [
      "(1.3434233885668212, 1.692232358850735, {'max_depth': 3, 'max_features': 4, 'max_leaf_nodes': 7, 'max_samples': 0.9, 'n_estimators': 30})\n"
     ]
    }
   ],
   "source": [
    "distributions = { 'n_estimators': randint(20,80), # tuning x2\n",
    "                  'max_features': [4], # tuned\n",
    "                  'max_depth': [3], # tuned\n",
    "                  'max_leaf_nodes': [7], # tuning \n",
    "                  'max_samples': [0.9], # tuning \n",
    "                }\n",
    "\n",
    "print(regression_randomized_tuning(X, y, distributions, ensemble.RandomForestRegressor(), n_iter=30, r_state=42))"
   ]
  },
  {
   "cell_type": "markdown",
   "metadata": {},
   "source": [
    "<h4> Final Model <h4>"
   ]
  },
  {
   "cell_type": "code",
   "execution_count": 398,
   "metadata": {},
   "outputs": [
    {
     "name": "stdout",
     "output_type": "stream",
     "text": [
      "(1.3279880144665084, 1.6452845979119477, {'n_estimators': 30, 'max_samples': 0.9, 'max_leaf_nodes': 7, 'max_features': 4, 'max_depth': 3})\n"
     ]
    }
   ],
   "source": [
    "distributions = { 'n_estimators': [30], # tuned x2\n",
    "                  'max_features': [4], # tuned\n",
    "                  'max_depth': [3], # tuned\n",
    "                  'max_leaf_nodes': [7], # tuning \n",
    "                  'max_samples': [0.9], # tuning \n",
    "                }\n",
    "\n",
    "print(regression_randomized_tuning(X, y, distributions, ensemble.RandomForestRegressor(), n_iter=1, r_state=42))"
   ]
  },
  {
   "cell_type": "markdown",
   "metadata": {},
   "source": [
    "<h4> Summary </h4>"
   ]
  },
  {
   "cell_type": "markdown",
   "metadata": {},
   "source": [
    "We have largely prevented an overfitting, with a decrease of rmse for cv."
   ]
  },
  {
   "cell_type": "markdown",
   "metadata": {},
   "source": [
    "<h2> GaussianProcessRegressor </h2>"
   ]
  },
  {
   "cell_type": "code",
   "execution_count": 416,
   "metadata": {},
   "outputs": [
    {
     "data": {
      "text/html": [
       "\n",
       "                <audio controls=\"controls\" autoplay=\"autoplay\">\n",
       "                    <source src=\"data:audio/mpeg;base64,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\" type=\"audio/mpeg\" />\n",
       "                    Your browser does not support the audio element.\n",
       "                </audio>\n",
       "              "
      ],
      "text/plain": [
       "<IPython.lib.display.Audio object>"
      ]
     },
     "execution_count": 416,
     "metadata": {},
     "output_type": "execute_result"
    }
   ],
   "source": [
    "%%capture --no-display\n",
    "\n",
    "distributions = { 'kernel': [None, ConstantKernel(), DotProduct(), ExpSineSquared(), Matern(),\n",
    "              PairwiseKernel(), RationalQuadratic(), RBF(), WhiteKernel()],\n",
    "                 'alpha': [None, 1e-10, 1e-9, 1e-8, 1e-7, 1e-6, 1e-5, 1e-4, 1e-3, 1e-2, 1e-1, 1], # tuning\n",
    "                 'n_restarts_optimizer': [0, 1, 2, 3, 4]\n",
    "                }\n",
    "\n",
    "results = regression_randomized_tuning(X, y, distributions, GaussianProcessRegressor(), n_iter=540, r_state=42)"
   ]
  },
  {
   "cell_type": "code",
   "execution_count": 417,
   "metadata": {},
   "outputs": [
    {
     "data": {
      "text/plain": [
       "(0.20133381531671257,\n",
       " 1.6309649415131617,\n",
       " {'n_restarts_optimizer': 3,\n",
       "  'kernel': RationalQuadratic(alpha=1, length_scale=1),\n",
       "  'alpha': 0.1})"
      ]
     },
     "execution_count": 417,
     "metadata": {},
     "output_type": "execute_result"
    }
   ],
   "source": [
    "results"
   ]
  },
  {
   "cell_type": "markdown",
   "metadata": {},
   "source": [
    "This model clearly overfits. Additionaly, it does not offer a method to evaluate feature importances, so mainly idea this time possibly is to understand kernels better to customize them. It might be time consuming and differs from assumptions of this project, so I will tune another model - NuSVR."
   ]
  },
  {
   "cell_type": "markdown",
   "metadata": {},
   "source": [
    "<h2> SVR </h2>\n",
    "\n",
    "https://12ft.io/proxy?q=https%3A%2F%2Ftowardsdatascience.com%2Fhyperparameter-tuning-for-support-vector-machines-c-and-gamma-parameters-6a5097416167\n",
    "\n",
    "<h3> Let's find a kernel </h3>"
   ]
  },
  {
   "cell_type": "code",
   "execution_count": 418,
   "metadata": {},
   "outputs": [
    {
     "name": "stdout",
     "output_type": "stream",
     "text": [
      "(1.3387143200154634, 1.6438048009634274, {'kernel': 'rbf'})\n"
     ]
    },
    {
     "data": {
      "text/html": [
       "\n",
       "                <audio controls=\"controls\" autoplay=\"autoplay\">\n",
       "                    <source src=\"data:audio/mpeg;base64,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\" type=\"audio/mpeg\" />\n",
       "                    Your browser does not support the audio element.\n",
       "                </audio>\n",
       "              "
      ],
      "text/plain": [
       "<IPython.lib.display.Audio object>"
      ]
     },
     "execution_count": 418,
     "metadata": {},
     "output_type": "execute_result"
    }
   ],
   "source": [
    "distributions = { 'kernel': ['rbf', 'linear', 'poly', 'sigmoid'], # tuning\n",
    "                }\n",
    "\n",
    "print(regression_randomized_tuning(X, y, distributions, SVR(), n_iter=4, r_state=42))"
   ]
  },
  {
   "cell_type": "markdown",
   "metadata": {},
   "source": [
    "<h3> Tune C and gamma </h3>"
   ]
  },
  {
   "cell_type": "code",
   "execution_count": 419,
   "metadata": {},
   "outputs": [
    {
     "name": "stdout",
     "output_type": "stream",
     "text": [
      "(1.3163027240685563, 1.7353874408950853, {'kernel': 'rbf', 'gamma': 0.1, 'C': 1})\n"
     ]
    },
    {
     "data": {
      "text/html": [
       "\n",
       "                <audio controls=\"controls\" autoplay=\"autoplay\">\n",
       "                    <source src=\"data:audio/mpeg;base64,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\" type=\"audio/mpeg\" />\n",
       "                    Your browser does not support the audio element.\n",
       "                </audio>\n",
       "              "
      ],
      "text/plain": [
       "<IPython.lib.display.Audio object>"
      ]
     },
     "execution_count": 419,
     "metadata": {},
     "output_type": "execute_result"
    }
   ],
   "source": [
    "distributions = { 'kernel': ['rbf'], # tuned\n",
    "                  'gamma': ['scale', 'auto', 0.0001, 0.001, 0.01, 0.1, 1, 10], # tuning\n",
    "                  'C': [0.1, 1, 10, 100], #tuning\n",
    "                }\n",
    "\n",
    "print(regression_randomized_tuning(X, y, distributions, SVR(), n_iter=32, r_state=42))"
   ]
  },
  {
   "cell_type": "markdown",
   "metadata": {},
   "source": [
    "<h4> Final Model <h4>"
   ]
  },
  {
   "cell_type": "code",
   "execution_count": 421,
   "metadata": {},
   "outputs": [
    {
     "name": "stdout",
     "output_type": "stream",
     "text": [
      "(1.3163027240685563, 1.6415807654522472, {'kernel': 'rbf', 'gamma': 0.1, 'C': 1})\n"
     ]
    }
   ],
   "source": [
    "distributions = { 'kernel': ['rbf'], # tuned\n",
    "                  'gamma': [0.1], # tuned\n",
    "                  'C': [1], #tuned\n",
    "                }\n",
    "\n",
    "print(regression_randomized_tuning(X, y, distributions, SVR(), n_iter=1, r_state=42))"
   ]
  },
  {
   "cell_type": "markdown",
   "metadata": {},
   "source": [
    "<h4> Summary </h4>"
   ]
  },
  {
   "cell_type": "markdown",
   "metadata": {},
   "source": [
    "SVR looks promising."
   ]
  },
  {
   "cell_type": "markdown",
   "metadata": {},
   "source": [
    "<h2> NuSVR </h2>"
   ]
  },
  {
   "cell_type": "markdown",
   "metadata": {},
   "source": [
    "<h3> Find a kernel and nu value. </h3>"
   ]
  },
  {
   "cell_type": "code",
   "execution_count": 422,
   "metadata": {},
   "outputs": [
    {
     "name": "stdout",
     "output_type": "stream",
     "text": [
      "(1.3361812965298494, 1.7315117588221176, {'kernel': 'rbf', 'nu': 0.8389335020693633})\n"
     ]
    },
    {
     "data": {
      "text/html": [
       "\n",
       "                <audio controls=\"controls\" autoplay=\"autoplay\">\n",
       "                    <source src=\"data:audio/mpeg;base64,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\" type=\"audio/mpeg\" />\n",
       "                    Your browser does not support the audio element.\n",
       "                </audio>\n",
       "              "
      ],
      "text/plain": [
       "<IPython.lib.display.Audio object>"
      ]
     },
     "execution_count": 422,
     "metadata": {},
     "output_type": "execute_result"
    }
   ],
   "source": [
    "distributions = { 'kernel': ['rbf', 'linear', 'poly', 'sigmoid'], # tuning\n",
    "                  'nu': uniform(loc=0, scale=1), # tuning\n",
    "                }\n",
    "\n",
    "print(regression_randomized_tuning(X, y, distributions, NuSVR(), n_iter=200, r_state=42))"
   ]
  },
  {
   "cell_type": "code",
   "execution_count": 423,
   "metadata": {},
   "outputs": [
    {
     "name": "stdout",
     "output_type": "stream",
     "text": [
      "(1.3353284651103843, 1.6386226718272303, {'kernel': 'rbf', 'nu': 0.7992414568862043})\n"
     ]
    },
    {
     "data": {
      "text/html": [
       "\n",
       "                <audio controls=\"controls\" autoplay=\"autoplay\">\n",
       "                    <source src=\"data:audio/mpeg;base64,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\" type=\"audio/mpeg\" />\n",
       "                    Your browser does not support the audio element.\n",
       "                </audio>\n",
       "              "
      ],
      "text/plain": [
       "<IPython.lib.display.Audio object>"
      ]
     },
     "execution_count": 423,
     "metadata": {},
     "output_type": "execute_result"
    }
   ],
   "source": [
    "distributions = { 'kernel': ['rbf'], # tuned\n",
    "                  'nu': uniform(loc=0.74, scale=0.1), # tuning x2\n",
    "                }\n",
    "\n",
    "print(regression_randomized_tuning(X, y, distributions, NuSVR(), n_iter=200, r_state=42))"
   ]
  },
  {
   "cell_type": "markdown",
   "metadata": {},
   "source": [
    "<h3> Tune C and gamma </h3>"
   ]
  },
  {
   "cell_type": "code",
   "execution_count": 424,
   "metadata": {},
   "outputs": [
    {
     "name": "stdout",
     "output_type": "stream",
     "text": [
      "(1.3140729740215606, 1.7362166917804525, {'nu': 0.8, 'kernel': 'rbf', 'gamma': 0.1, 'C': 1})\n"
     ]
    },
    {
     "data": {
      "text/html": [
       "\n",
       "                <audio controls=\"controls\" autoplay=\"autoplay\">\n",
       "                    <source src=\"data:audio/mpeg;base64,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\" type=\"audio/mpeg\" />\n",
       "                    Your browser does not support the audio element.\n",
       "                </audio>\n",
       "              "
      ],
      "text/plain": [
       "<IPython.lib.display.Audio object>"
      ]
     },
     "execution_count": 424,
     "metadata": {},
     "output_type": "execute_result"
    }
   ],
   "source": [
    "distributions = { 'kernel': ['rbf'], # tuned\n",
    "                  'nu': [0.8], # tuned\n",
    "                  'gamma': ['scale', 'auto', 0.0001, 0.001, 0.01, 0.1, 1, 10], # tuning\n",
    "                  'C': [0.1, 1, 10, 100], #tuning\n",
    "    \n",
    "                }\n",
    "\n",
    "print(regression_randomized_tuning(X, y, distributions, NuSVR(), n_iter=32, r_state=42))"
   ]
  },
  {
   "cell_type": "markdown",
   "metadata": {},
   "source": [
    "<h3> Final Model </h3>"
   ]
  },
  {
   "cell_type": "code",
   "execution_count": 428,
   "metadata": {},
   "outputs": [
    {
     "name": "stdout",
     "output_type": "stream",
     "text": [
      "(1.3140729740215606, 1.6362666242496062, {'nu': 0.8, 'kernel': 'rbf', 'gamma': 0.1, 'C': 1})\n"
     ]
    },
    {
     "data": {
      "text/html": [
       "\n",
       "                <audio controls=\"controls\" autoplay=\"autoplay\">\n",
       "                    <source src=\"data:audio/mpeg;base64,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\" type=\"audio/mpeg\" />\n",
       "                    Your browser does not support the audio element.\n",
       "                </audio>\n",
       "              "
      ],
      "text/plain": [
       "<IPython.lib.display.Audio object>"
      ]
     },
     "execution_count": 428,
     "metadata": {},
     "output_type": "execute_result"
    }
   ],
   "source": [
    "distributions = { 'kernel': ['rbf'], # tuned\n",
    "                  'nu': [0.8], # tuned\n",
    "                  'gamma': [0.1], # tuned\n",
    "                  'C': [1], #tuned\n",
    "                }\n",
    "\n",
    "print(regression_randomized_tuning(X, y, distributions, NuSVR(), n_iter=1, r_state=42))"
   ]
  },
  {
   "cell_type": "markdown",
   "metadata": {},
   "source": [
    "<h3> Summary </h3>"
   ]
  },
  {
   "cell_type": "markdown",
   "metadata": {},
   "source": [
    "NuSVR also looks promising."
   ]
  }
 ],
 "metadata": {
  "kernelspec": {
   "display_name": "Python 3",
   "language": "python",
   "name": "python3"
  },
  "language_info": {
   "codemirror_mode": {
    "name": "ipython",
    "version": 3
   },
   "file_extension": ".py",
   "mimetype": "text/x-python",
   "name": "python",
   "nbconvert_exporter": "python",
   "pygments_lexer": "ipython3",
   "version": "3.7.3"
  }
 },
 "nbformat": 4,
 "nbformat_minor": 5
}
