{
 "cells": [
  {
   "cell_type": "code",
   "execution_count": 197,
   "id": "7237f604-7251-4ade-95ba-260a12f89663",
   "metadata": {},
   "outputs": [],
   "source": [
    "import pandas as pd\n",
    "from sklearn.kernel_ridge import KernelRidge\n",
    "from sklearn.gaussian_process import GaussianProcessRegressor\n",
    "from sklearn import cross_decomposition\n",
    "from sklearn import ensemble\n",
    "from sklearn import isotonic\n",
    "from sklearn.neural_network import MLPRegressor"
   ]
  },
  {
   "cell_type": "code",
   "execution_count": 198,
   "id": "751606bb-0bb0-48df-a3ee-1ab638219d68",
   "metadata": {},
   "outputs": [],
   "source": [
    "%run ml_functions.ipynb"
   ]
  },
  {
   "cell_type": "markdown",
   "id": "7f8c04b8-534f-4581-9ea4-c23d16a68198",
   "metadata": {},
   "source": [
    "Our plan is to test as many as possible models, with default settings, in a short time, then choose a few most promising for hyperparameter tuning.\n",
    "\n",
    "Let's calculate RMSE for training data and mean value of RMSE for Cross-Validation."
   ]
  },
  {
   "cell_type": "markdown",
   "id": "4650ecc5-6436-4849-9e8e-b9cfd9399b37",
   "metadata": {},
   "source": [
    "<h3> Linear Models </h3>"
   ]
  },
  {
   "cell_type": "code",
   "execution_count": 199,
   "id": "d97523a7-ad4e-4833-bf03-a27c9ee1eedf",
   "metadata": {},
   "outputs": [
    {
     "data": {
      "text/html": [
       "<div>\n",
       "<style scoped>\n",
       "    .dataframe tbody tr th:only-of-type {\n",
       "        vertical-align: middle;\n",
       "    }\n",
       "\n",
       "    .dataframe tbody tr th {\n",
       "        vertical-align: top;\n",
       "    }\n",
       "\n",
       "    .dataframe thead th {\n",
       "        text-align: right;\n",
       "    }\n",
       "</style>\n",
       "<table border=\"1\" class=\"dataframe\">\n",
       "  <thead>\n",
       "    <tr style=\"text-align: right;\">\n",
       "      <th></th>\n",
       "      <th>LinearRegression</th>\n",
       "      <th>Ridge</th>\n",
       "      <th>Lasso</th>\n",
       "      <th>ElasticNet</th>\n",
       "      <th>Lars</th>\n",
       "      <th>LassoLars</th>\n",
       "      <th>OrthogonalMatchingPursuit</th>\n",
       "      <th>BayesianRidge</th>\n",
       "      <th>ARDRegression</th>\n",
       "      <th>LogisticRegression</th>\n",
       "      <th>SGDRegressor</th>\n",
       "      <th>PassiveAggressiveRegressor</th>\n",
       "      <th>HuberRegressor</th>\n",
       "      <th>TweedieRegressor</th>\n",
       "      <th>TheilSenRegressor</th>\n",
       "      <th>RANSACRegressor</th>\n",
       "    </tr>\n",
       "  </thead>\n",
       "  <tbody>\n",
       "    <tr>\n",
       "      <th>rmse_training</th>\n",
       "      <td>0.939249</td>\n",
       "      <td>1.391042</td>\n",
       "      <td>1.800469</td>\n",
       "      <td>1.797770</td>\n",
       "      <td>151.759964</td>\n",
       "      <td>1.800469</td>\n",
       "      <td>1.569185</td>\n",
       "      <td>1.715081</td>\n",
       "      <td>1.506267</td>\n",
       "      <td>1.532774</td>\n",
       "      <td>1.513862</td>\n",
       "      <td>1.73499</td>\n",
       "      <td>1.252213</td>\n",
       "      <td>1.637558</td>\n",
       "      <td>1.210730</td>\n",
       "      <td>2.780928</td>\n",
       "    </tr>\n",
       "    <tr>\n",
       "      <th>rmse_cv</th>\n",
       "      <td>7.029047</td>\n",
       "      <td>2.005982</td>\n",
       "      <td>1.848290</td>\n",
       "      <td>1.856344</td>\n",
       "      <td>2732.996970</td>\n",
       "      <td>1.848290</td>\n",
       "      <td>1.881482</td>\n",
       "      <td>1.842220</td>\n",
       "      <td>1.952275</td>\n",
       "      <td>2.337529</td>\n",
       "      <td>1.952035</td>\n",
       "      <td>2.20816</td>\n",
       "      <td>2.604354</td>\n",
       "      <td>1.849276</td>\n",
       "      <td>7.669986</td>\n",
       "      <td>10.609576</td>\n",
       "    </tr>\n",
       "  </tbody>\n",
       "</table>\n",
       "</div>"
      ],
      "text/plain": [
       "               LinearRegression     Ridge     Lasso  ElasticNet         Lars  \\\n",
       "rmse_training          0.939249  1.391042  1.800469    1.797770   151.759964   \n",
       "rmse_cv                7.029047  2.005982  1.848290    1.856344  2732.996970   \n",
       "\n",
       "               LassoLars  OrthogonalMatchingPursuit  BayesianRidge  \\\n",
       "rmse_training   1.800469                   1.569185       1.715081   \n",
       "rmse_cv         1.848290                   1.881482       1.842220   \n",
       "\n",
       "               ARDRegression  LogisticRegression  SGDRegressor  \\\n",
       "rmse_training       1.506267            1.532774      1.513862   \n",
       "rmse_cv             1.952275            2.337529      1.952035   \n",
       "\n",
       "               PassiveAggressiveRegressor  HuberRegressor  TweedieRegressor  \\\n",
       "rmse_training                     1.73499        1.252213          1.637558   \n",
       "rmse_cv                           2.20816        2.604354          1.849276   \n",
       "\n",
       "               TheilSenRegressor  RANSACRegressor  \n",
       "rmse_training           1.210730         2.780928  \n",
       "rmse_cv                 7.669986        10.609576  "
      ]
     },
     "execution_count": 199,
     "metadata": {},
     "output_type": "execute_result"
    }
   ],
   "source": [
    "%%capture --no-display\n",
    "result_lm = regression_linear_models(train_set_new_ready, train_set_labels, cv=4)\n",
    "result_lm = pd.DataFrame.from_dict(result_lm)\n",
    "result_lm"
   ]
  },
  {
   "cell_type": "markdown",
   "id": "d7f6352e-6f70-4c3e-acb2-471ebaf2525a",
   "metadata": {},
   "source": [
    "<h3> KernelRidge </h3>"
   ]
  },
  {
   "cell_type": "code",
   "execution_count": 200,
   "id": "83ee33e7-ca74-40b5-aa14-d91c40acd73f",
   "metadata": {},
   "outputs": [
    {
     "data": {
      "text/html": [
       "<div>\n",
       "<style scoped>\n",
       "    .dataframe tbody tr th:only-of-type {\n",
       "        vertical-align: middle;\n",
       "    }\n",
       "\n",
       "    .dataframe tbody tr th {\n",
       "        vertical-align: top;\n",
       "    }\n",
       "\n",
       "    .dataframe thead th {\n",
       "        text-align: right;\n",
       "    }\n",
       "</style>\n",
       "<table border=\"1\" class=\"dataframe\">\n",
       "  <thead>\n",
       "    <tr style=\"text-align: right;\">\n",
       "      <th></th>\n",
       "      <th>KernelRidge</th>\n",
       "    </tr>\n",
       "  </thead>\n",
       "  <tbody>\n",
       "    <tr>\n",
       "      <th>rmse_cv</th>\n",
       "      <td>2.013866</td>\n",
       "    </tr>\n",
       "    <tr>\n",
       "      <th>rmse_training</th>\n",
       "      <td>1.391596</td>\n",
       "    </tr>\n",
       "  </tbody>\n",
       "</table>\n",
       "</div>"
      ],
      "text/plain": [
       "               KernelRidge\n",
       "rmse_cv           2.013866\n",
       "rmse_training     1.391596"
      ]
     },
     "execution_count": 200,
     "metadata": {},
     "output_type": "execute_result"
    }
   ],
   "source": [
    "result_kr = regression_kernelridge(train_set_new_ready, train_set_labels, cv=4)\n",
    "result_kr = pd.DataFrame.from_dict(result_kr)\n",
    "result_kr"
   ]
  },
  {
   "cell_type": "markdown",
   "id": "c48f6f79-ccf8-4df4-9eb6-81c351a570fd",
   "metadata": {},
   "source": [
    "<h3> SVM </h3>"
   ]
  },
  {
   "cell_type": "code",
   "execution_count": 201,
   "id": "f440fa9e-ddf1-4e36-8e75-afa04f0bccc9",
   "metadata": {},
   "outputs": [
    {
     "data": {
      "text/html": [
       "<div>\n",
       "<style scoped>\n",
       "    .dataframe tbody tr th:only-of-type {\n",
       "        vertical-align: middle;\n",
       "    }\n",
       "\n",
       "    .dataframe tbody tr th {\n",
       "        vertical-align: top;\n",
       "    }\n",
       "\n",
       "    .dataframe thead th {\n",
       "        text-align: right;\n",
       "    }\n",
       "</style>\n",
       "<table border=\"1\" class=\"dataframe\">\n",
       "  <thead>\n",
       "    <tr style=\"text-align: right;\">\n",
       "      <th></th>\n",
       "      <th>SVR</th>\n",
       "      <th>NuSVR</th>\n",
       "      <th>LinearSVR</th>\n",
       "    </tr>\n",
       "  </thead>\n",
       "  <tbody>\n",
       "    <tr>\n",
       "      <th>rmse_training</th>\n",
       "      <td>1.368489</td>\n",
       "      <td>1.357156</td>\n",
       "      <td>1.480323</td>\n",
       "    </tr>\n",
       "    <tr>\n",
       "      <th>rmse_cv</th>\n",
       "      <td>1.689241</td>\n",
       "      <td>1.717408</td>\n",
       "      <td>2.119062</td>\n",
       "    </tr>\n",
       "  </tbody>\n",
       "</table>\n",
       "</div>"
      ],
      "text/plain": [
       "                    SVR     NuSVR  LinearSVR\n",
       "rmse_training  1.368489  1.357156   1.480323\n",
       "rmse_cv        1.689241  1.717408   2.119062"
      ]
     },
     "execution_count": 201,
     "metadata": {},
     "output_type": "execute_result"
    }
   ],
   "source": [
    "%%capture --no-display\n",
    "result_svm = regression_svm(train_set_new_ready, train_set_labels, cv=4)\n",
    "result_svm = pd.DataFrame.from_dict(result_svm)\n",
    "result_svm"
   ]
  },
  {
   "cell_type": "markdown",
   "id": "49175068-199e-4768-8a6c-986d13ce4566",
   "metadata": {},
   "source": [
    "<h3> Gaussian Process </h3>"
   ]
  },
  {
   "cell_type": "code",
   "execution_count": 202,
   "id": "60c911a3-c2ec-4dde-be08-2425a0ef2be8",
   "metadata": {},
   "outputs": [
    {
     "data": {
      "text/html": [
       "<div>\n",
       "<style scoped>\n",
       "    .dataframe tbody tr th:only-of-type {\n",
       "        vertical-align: middle;\n",
       "    }\n",
       "\n",
       "    .dataframe tbody tr th {\n",
       "        vertical-align: top;\n",
       "    }\n",
       "\n",
       "    .dataframe thead th {\n",
       "        text-align: right;\n",
       "    }\n",
       "</style>\n",
       "<table border=\"1\" class=\"dataframe\">\n",
       "  <thead>\n",
       "    <tr style=\"text-align: right;\">\n",
       "      <th></th>\n",
       "      <th>GaussianProcessRegressor</th>\n",
       "    </tr>\n",
       "  </thead>\n",
       "  <tbody>\n",
       "    <tr>\n",
       "      <th>rmse_cv</th>\n",
       "      <td>4.060732e+00</td>\n",
       "    </tr>\n",
       "    <tr>\n",
       "      <th>rmse_training</th>\n",
       "      <td>4.075920e-10</td>\n",
       "    </tr>\n",
       "  </tbody>\n",
       "</table>\n",
       "</div>"
      ],
      "text/plain": [
       "               GaussianProcessRegressor\n",
       "rmse_cv                    4.060732e+00\n",
       "rmse_training              4.075920e-10"
      ]
     },
     "execution_count": 202,
     "metadata": {},
     "output_type": "execute_result"
    }
   ],
   "source": [
    "%%capture --no-display\n",
    "result_gpr = regression_gaussianprocess(train_set_new_ready, train_set_labels, cv=4)\n",
    "result_gpr = pd.DataFrame.from_dict(result_gpr)\n",
    "result_gpr"
   ]
  },
  {
   "cell_type": "markdown",
   "id": "bde995b8-1dfb-4efb-853b-00d86bca1adb",
   "metadata": {},
   "source": [
    "<h3> Cross Decomposition </h3>"
   ]
  },
  {
   "cell_type": "code",
   "execution_count": 203,
   "id": "f4ea3aa9-fd7b-4d7e-9647-75f8e993228f",
   "metadata": {},
   "outputs": [
    {
     "data": {
      "text/html": [
       "<div>\n",
       "<style scoped>\n",
       "    .dataframe tbody tr th:only-of-type {\n",
       "        vertical-align: middle;\n",
       "    }\n",
       "\n",
       "    .dataframe tbody tr th {\n",
       "        vertical-align: top;\n",
       "    }\n",
       "\n",
       "    .dataframe thead th {\n",
       "        text-align: right;\n",
       "    }\n",
       "</style>\n",
       "<table border=\"1\" class=\"dataframe\">\n",
       "  <thead>\n",
       "    <tr style=\"text-align: right;\">\n",
       "      <th></th>\n",
       "      <th>PLSRegression</th>\n",
       "      <th>PLSCanonical</th>\n",
       "      <th>CCA</th>\n",
       "    </tr>\n",
       "  </thead>\n",
       "  <tbody>\n",
       "    <tr>\n",
       "      <th>rmse_training</th>\n",
       "      <td>1.600774</td>\n",
       "      <td>4.551446</td>\n",
       "      <td>1.782026</td>\n",
       "    </tr>\n",
       "    <tr>\n",
       "      <th>rmse_cv</th>\n",
       "      <td>1.862992</td>\n",
       "      <td>4.881097</td>\n",
       "      <td>1.846478</td>\n",
       "    </tr>\n",
       "  </tbody>\n",
       "</table>\n",
       "</div>"
      ],
      "text/plain": [
       "               PLSRegression  PLSCanonical       CCA\n",
       "rmse_training       1.600774      4.551446  1.782026\n",
       "rmse_cv             1.862992      4.881097  1.846478"
      ]
     },
     "execution_count": 203,
     "metadata": {},
     "output_type": "execute_result"
    }
   ],
   "source": [
    "%%capture --no-display\n",
    "result_cd = regression_crossdecomposition(train_set_new_ready, train_set_labels, cv=4)\n",
    "result_cd = pd.DataFrame.from_dict(result_cd)\n",
    "result_cd"
   ]
  },
  {
   "cell_type": "markdown",
   "id": "8ed659eb-c00e-4596-aa4b-78184cfb79bb",
   "metadata": {},
   "source": [
    "<h3> Decision Tree </h3>"
   ]
  },
  {
   "cell_type": "code",
   "execution_count": 204,
   "id": "e68b4c47-2b63-4cb8-b993-d861e9aaa615",
   "metadata": {},
   "outputs": [
    {
     "data": {
      "text/html": [
       "<div>\n",
       "<style scoped>\n",
       "    .dataframe tbody tr th:only-of-type {\n",
       "        vertical-align: middle;\n",
       "    }\n",
       "\n",
       "    .dataframe tbody tr th {\n",
       "        vertical-align: top;\n",
       "    }\n",
       "\n",
       "    .dataframe thead th {\n",
       "        text-align: right;\n",
       "    }\n",
       "</style>\n",
       "<table border=\"1\" class=\"dataframe\">\n",
       "  <thead>\n",
       "    <tr style=\"text-align: right;\">\n",
       "      <th></th>\n",
       "      <th>DecisionTreeRegressor</th>\n",
       "    </tr>\n",
       "  </thead>\n",
       "  <tbody>\n",
       "    <tr>\n",
       "      <th>rmse_cv</th>\n",
       "      <td>2.214911</td>\n",
       "    </tr>\n",
       "    <tr>\n",
       "      <th>rmse_training</th>\n",
       "      <td>0.000000</td>\n",
       "    </tr>\n",
       "  </tbody>\n",
       "</table>\n",
       "</div>"
      ],
      "text/plain": [
       "               DecisionTreeRegressor\n",
       "rmse_cv                     2.214911\n",
       "rmse_training               0.000000"
      ]
     },
     "execution_count": 204,
     "metadata": {},
     "output_type": "execute_result"
    }
   ],
   "source": [
    "result_tree = regression_decisiontree(train_set_new_ready, train_set_labels, cv=4)\n",
    "result_tree = pd.DataFrame.from_dict(result_tree)\n",
    "result_tree"
   ]
  },
  {
   "cell_type": "markdown",
   "id": "a117510b-7933-4422-ae87-6affab9e4607",
   "metadata": {},
   "source": [
    "<h3> Ensemble Methods </h3>"
   ]
  },
  {
   "cell_type": "code",
   "execution_count": 205,
   "id": "7bbd4dd0-3314-46b5-9a7b-a5991db3cb3a",
   "metadata": {},
   "outputs": [
    {
     "data": {
      "text/html": [
       "<div>\n",
       "<style scoped>\n",
       "    .dataframe tbody tr th:only-of-type {\n",
       "        vertical-align: middle;\n",
       "    }\n",
       "\n",
       "    .dataframe tbody tr th {\n",
       "        vertical-align: top;\n",
       "    }\n",
       "\n",
       "    .dataframe thead th {\n",
       "        text-align: right;\n",
       "    }\n",
       "</style>\n",
       "<table border=\"1\" class=\"dataframe\">\n",
       "  <thead>\n",
       "    <tr style=\"text-align: right;\">\n",
       "      <th></th>\n",
       "      <th>AdaBoostRegressor</th>\n",
       "      <th>BaggingRegressor</th>\n",
       "      <th>ExtraTreesRegressor</th>\n",
       "      <th>GradientBoostingRegressor</th>\n",
       "      <th>IsolationForest</th>\n",
       "      <th>RandomForestRegressor</th>\n",
       "      <th>VotingRegressor</th>\n",
       "      <th>StackingRegressor</th>\n",
       "    </tr>\n",
       "  </thead>\n",
       "  <tbody>\n",
       "    <tr>\n",
       "      <th>rmse_training</th>\n",
       "      <td>0.732120</td>\n",
       "      <td>0.789464</td>\n",
       "      <td>0.000000</td>\n",
       "      <td>0.136624</td>\n",
       "      <td>3.551684</td>\n",
       "      <td>0.626850</td>\n",
       "      <td>1.587453</td>\n",
       "      <td>1.887090</td>\n",
       "    </tr>\n",
       "    <tr>\n",
       "      <th>rmse_cv</th>\n",
       "      <td>1.741218</td>\n",
       "      <td>1.779797</td>\n",
       "      <td>1.692288</td>\n",
       "      <td>1.799325</td>\n",
       "      <td>3.646744</td>\n",
       "      <td>1.693908</td>\n",
       "      <td>1.808560</td>\n",
       "      <td>1.838392</td>\n",
       "    </tr>\n",
       "  </tbody>\n",
       "</table>\n",
       "</div>"
      ],
      "text/plain": [
       "               AdaBoostRegressor  BaggingRegressor  ExtraTreesRegressor  \\\n",
       "rmse_training           0.732120          0.789464             0.000000   \n",
       "rmse_cv                 1.741218          1.779797             1.692288   \n",
       "\n",
       "               GradientBoostingRegressor  IsolationForest  \\\n",
       "rmse_training                   0.136624         3.551684   \n",
       "rmse_cv                         1.799325         3.646744   \n",
       "\n",
       "               RandomForestRegressor  VotingRegressor  StackingRegressor  \n",
       "rmse_training               0.626850         1.587453           1.887090  \n",
       "rmse_cv                     1.693908         1.808560           1.838392  "
      ]
     },
     "execution_count": 205,
     "metadata": {},
     "output_type": "execute_result"
    }
   ],
   "source": [
    "%%capture --no-display\n",
    "from sklearn import ensemble\n",
    "from sklearn.linear_model import RidgeCV, LassoCV\n",
    "from sklearn.neighbors import KNeighborsRegressor\n",
    "\n",
    "result_ens = regression_ensemble(train_set_new_ready, train_set_labels, cv=4)\n",
    "result_ens = pd.DataFrame.from_dict(result_ens)\n",
    "result_ens"
   ]
  },
  {
   "cell_type": "markdown",
   "id": "a068051b-3db8-40dc-94ff-31df09352304",
   "metadata": {},
   "source": [
    "<h3> Neural Network </h3>"
   ]
  },
  {
   "cell_type": "code",
   "execution_count": 206,
   "id": "7048625b-fe17-4b60-b313-aa922357eea0",
   "metadata": {},
   "outputs": [
    {
     "data": {
      "text/html": [
       "<div>\n",
       "<style scoped>\n",
       "    .dataframe tbody tr th:only-of-type {\n",
       "        vertical-align: middle;\n",
       "    }\n",
       "\n",
       "    .dataframe tbody tr th {\n",
       "        vertical-align: top;\n",
       "    }\n",
       "\n",
       "    .dataframe thead th {\n",
       "        text-align: right;\n",
       "    }\n",
       "</style>\n",
       "<table border=\"1\" class=\"dataframe\">\n",
       "  <thead>\n",
       "    <tr style=\"text-align: right;\">\n",
       "      <th></th>\n",
       "      <th>neural_network</th>\n",
       "    </tr>\n",
       "  </thead>\n",
       "  <tbody>\n",
       "    <tr>\n",
       "      <th>rmse_cv</th>\n",
       "      <td>2.104494</td>\n",
       "    </tr>\n",
       "    <tr>\n",
       "      <th>rmse_training</th>\n",
       "      <td>0.898979</td>\n",
       "    </tr>\n",
       "  </tbody>\n",
       "</table>\n",
       "</div>"
      ],
      "text/plain": [
       "               neural_network\n",
       "rmse_cv              2.104494\n",
       "rmse_training        0.898979"
      ]
     },
     "execution_count": 206,
     "metadata": {},
     "output_type": "execute_result"
    }
   ],
   "source": [
    "%%capture --no-display\n",
    "regression_neuralnetwork\n",
    "result_nn = regression_neuralnetwork(train_set_new_ready, train_set_labels, cv=4)\n",
    "result_nn = pd.DataFrame.from_dict(result_nn)\n",
    "result_nn"
   ]
  },
  {
   "cell_type": "markdown",
   "id": "0271653d-8a2d-481f-a20f-453fff4b1eb9",
   "metadata": {},
   "source": [
    "<h3> Summary </h3>"
   ]
  },
  {
   "cell_type": "code",
   "execution_count": 211,
   "id": "08690e00-c3d7-4dbd-8a8f-07b10bfe2657",
   "metadata": {},
   "outputs": [
    {
     "data": {
      "text/html": [
       "<div>\n",
       "<style scoped>\n",
       "    .dataframe tbody tr th:only-of-type {\n",
       "        vertical-align: middle;\n",
       "    }\n",
       "\n",
       "    .dataframe tbody tr th {\n",
       "        vertical-align: top;\n",
       "    }\n",
       "\n",
       "    .dataframe thead th {\n",
       "        text-align: right;\n",
       "    }\n",
       "</style>\n",
       "<table border=\"1\" class=\"dataframe\">\n",
       "  <thead>\n",
       "    <tr style=\"text-align: right;\">\n",
       "      <th></th>\n",
       "      <th>LinearRegression</th>\n",
       "      <th>Ridge</th>\n",
       "      <th>Lasso</th>\n",
       "      <th>ElasticNet</th>\n",
       "      <th>Lars</th>\n",
       "      <th>LassoLars</th>\n",
       "      <th>OrthogonalMatchingPursuit</th>\n",
       "      <th>BayesianRidge</th>\n",
       "      <th>ARDRegression</th>\n",
       "      <th>LogisticRegression</th>\n",
       "      <th>SGDRegressor</th>\n",
       "      <th>PassiveAggressiveRegressor</th>\n",
       "      <th>HuberRegressor</th>\n",
       "      <th>TweedieRegressor</th>\n",
       "      <th>TheilSenRegressor</th>\n",
       "      <th>RANSACRegressor</th>\n",
       "      <th>KernelRidge</th>\n",
       "      <th>SVR</th>\n",
       "      <th>NuSVR</th>\n",
       "      <th>LinearSVR</th>\n",
       "      <th>GaussianProcessRegressor</th>\n",
       "      <th>PLSRegression</th>\n",
       "      <th>PLSCanonical</th>\n",
       "      <th>CCA</th>\n",
       "      <th>DecisionTreeRegressor</th>\n",
       "      <th>AdaBoostRegressor</th>\n",
       "      <th>BaggingRegressor</th>\n",
       "      <th>ExtraTreesRegressor</th>\n",
       "      <th>GradientBoostingRegressor</th>\n",
       "      <th>IsolationForest</th>\n",
       "      <th>RandomForestRegressor</th>\n",
       "      <th>VotingRegressor</th>\n",
       "      <th>StackingRegressor</th>\n",
       "      <th>neural_network</th>\n",
       "    </tr>\n",
       "  </thead>\n",
       "  <tbody>\n",
       "    <tr>\n",
       "      <th>rmse_training</th>\n",
       "      <td>0.939249</td>\n",
       "      <td>1.391042</td>\n",
       "      <td>1.800469</td>\n",
       "      <td>1.797770</td>\n",
       "      <td>151.759964</td>\n",
       "      <td>1.800469</td>\n",
       "      <td>1.569185</td>\n",
       "      <td>1.715081</td>\n",
       "      <td>1.506267</td>\n",
       "      <td>1.532774</td>\n",
       "      <td>1.513862</td>\n",
       "      <td>1.73499</td>\n",
       "      <td>1.252213</td>\n",
       "      <td>1.637558</td>\n",
       "      <td>1.210730</td>\n",
       "      <td>2.780928</td>\n",
       "      <td>1.391596</td>\n",
       "      <td>1.368489</td>\n",
       "      <td>1.357156</td>\n",
       "      <td>1.480323</td>\n",
       "      <td>4.075920e-10</td>\n",
       "      <td>1.600774</td>\n",
       "      <td>4.551446</td>\n",
       "      <td>1.782026</td>\n",
       "      <td>0.000000</td>\n",
       "      <td>0.732120</td>\n",
       "      <td>0.789464</td>\n",
       "      <td>0.000000</td>\n",
       "      <td>0.136624</td>\n",
       "      <td>3.551684</td>\n",
       "      <td>0.626850</td>\n",
       "      <td>1.587453</td>\n",
       "      <td>1.887090</td>\n",
       "      <td>0.898979</td>\n",
       "    </tr>\n",
       "    <tr>\n",
       "      <th>rmse_cv</th>\n",
       "      <td>7.029047</td>\n",
       "      <td>2.005982</td>\n",
       "      <td>1.848290</td>\n",
       "      <td>1.856344</td>\n",
       "      <td>2732.996970</td>\n",
       "      <td>1.848290</td>\n",
       "      <td>1.881482</td>\n",
       "      <td>1.842220</td>\n",
       "      <td>1.952275</td>\n",
       "      <td>2.337529</td>\n",
       "      <td>1.952035</td>\n",
       "      <td>2.20816</td>\n",
       "      <td>2.604354</td>\n",
       "      <td>1.849276</td>\n",
       "      <td>7.669986</td>\n",
       "      <td>10.609576</td>\n",
       "      <td>2.013866</td>\n",
       "      <td>1.689241</td>\n",
       "      <td>1.717408</td>\n",
       "      <td>2.119062</td>\n",
       "      <td>4.060732e+00</td>\n",
       "      <td>1.862992</td>\n",
       "      <td>4.881097</td>\n",
       "      <td>1.846478</td>\n",
       "      <td>2.214911</td>\n",
       "      <td>1.741218</td>\n",
       "      <td>1.779797</td>\n",
       "      <td>1.692288</td>\n",
       "      <td>1.799325</td>\n",
       "      <td>3.646744</td>\n",
       "      <td>1.693908</td>\n",
       "      <td>1.808560</td>\n",
       "      <td>1.838392</td>\n",
       "      <td>2.104494</td>\n",
       "    </tr>\n",
       "  </tbody>\n",
       "</table>\n",
       "</div>"
      ],
      "text/plain": [
       "               LinearRegression     Ridge     Lasso  ElasticNet         Lars  \\\n",
       "rmse_training          0.939249  1.391042  1.800469    1.797770   151.759964   \n",
       "rmse_cv                7.029047  2.005982  1.848290    1.856344  2732.996970   \n",
       "\n",
       "               LassoLars  OrthogonalMatchingPursuit  BayesianRidge  \\\n",
       "rmse_training   1.800469                   1.569185       1.715081   \n",
       "rmse_cv         1.848290                   1.881482       1.842220   \n",
       "\n",
       "               ARDRegression  LogisticRegression  SGDRegressor  \\\n",
       "rmse_training       1.506267            1.532774      1.513862   \n",
       "rmse_cv             1.952275            2.337529      1.952035   \n",
       "\n",
       "               PassiveAggressiveRegressor  HuberRegressor  TweedieRegressor  \\\n",
       "rmse_training                     1.73499        1.252213          1.637558   \n",
       "rmse_cv                           2.20816        2.604354          1.849276   \n",
       "\n",
       "               TheilSenRegressor  RANSACRegressor  KernelRidge       SVR  \\\n",
       "rmse_training           1.210730         2.780928     1.391596  1.368489   \n",
       "rmse_cv                 7.669986        10.609576     2.013866  1.689241   \n",
       "\n",
       "                  NuSVR  LinearSVR  GaussianProcessRegressor  PLSRegression  \\\n",
       "rmse_training  1.357156   1.480323              4.075920e-10       1.600774   \n",
       "rmse_cv        1.717408   2.119062              4.060732e+00       1.862992   \n",
       "\n",
       "               PLSCanonical       CCA  DecisionTreeRegressor  \\\n",
       "rmse_training      4.551446  1.782026               0.000000   \n",
       "rmse_cv            4.881097  1.846478               2.214911   \n",
       "\n",
       "               AdaBoostRegressor  BaggingRegressor  ExtraTreesRegressor  \\\n",
       "rmse_training           0.732120          0.789464             0.000000   \n",
       "rmse_cv                 1.741218          1.779797             1.692288   \n",
       "\n",
       "               GradientBoostingRegressor  IsolationForest  \\\n",
       "rmse_training                   0.136624         3.551684   \n",
       "rmse_cv                         1.799325         3.646744   \n",
       "\n",
       "               RandomForestRegressor  VotingRegressor  StackingRegressor  \\\n",
       "rmse_training               0.626850         1.587453           1.887090   \n",
       "rmse_cv                     1.693908         1.808560           1.838392   \n",
       "\n",
       "               neural_network  \n",
       "rmse_training        0.898979  \n",
       "rmse_cv              2.104494  "
      ]
     },
     "execution_count": 211,
     "metadata": {},
     "output_type": "execute_result"
    }
   ],
   "source": [
    "pd.set_option('display.max_columns', None)\n",
    "pd.set_option('display.max_rows', None)\n",
    "result = pd.concat([result_lm, result_kr, result_svm, result_gpr, result_cd, result_tree, result_ens, result_nn] , axis=1)\n",
    "result"
   ]
  },
  {
   "cell_type": "markdown",
   "id": "8f744aa5-8620-43ed-a77a-198c926c2fa1",
   "metadata": {},
   "source": [
    "Somehow we have to decide to continue working with a few models. I have decided to choose the best models by taking the average of DataFrame's rows."
   ]
  },
  {
   "cell_type": "code",
   "execution_count": 225,
   "id": "3a949693-dd20-4180-bd94-04e6188dce06",
   "metadata": {},
   "outputs": [
    {
     "data": {
      "text/plain": [
       "ExtraTreesRegressor          0.846144\n",
       "GradientBoostingRegressor    0.967975\n",
       "DecisionTreeRegressor        1.107456\n",
       "RandomForestRegressor        1.160379\n",
       "AdaBoostRegressor            1.236669\n",
       "BaggingRegressor             1.284630\n",
       "neural_network               1.501737\n",
       "dtype: float64"
      ]
     },
     "execution_count": 225,
     "metadata": {},
     "output_type": "execute_result"
    }
   ],
   "source": [
    "result.mean().sort_values().head(7)"
   ]
  },
  {
   "cell_type": "markdown",
   "id": "5b92a058-4fbe-4ad6-bcd8-36ed78a07b25",
   "metadata": {},
   "source": [
    "As we can see, mainly ensemble methods looks promising (5 in top 7), assuming our approach is correct."
   ]
  },
  {
   "cell_type": "code",
   "execution_count": null,
   "id": "f524dee3-5329-4032-8908-f3b1167cc862",
   "metadata": {},
   "outputs": [],
   "source": []
  }
 ],
 "metadata": {
  "kernelspec": {
   "display_name": "Python 3 (ipykernel)",
   "language": "python",
   "name": "python3"
  },
  "language_info": {
   "codemirror_mode": {
    "name": "ipython",
    "version": 3
   },
   "file_extension": ".py",
   "mimetype": "text/x-python",
   "name": "python",
   "nbconvert_exporter": "python",
   "pygments_lexer": "ipython3",
   "version": "3.9.7"
  }
 },
 "nbformat": 4,
 "nbformat_minor": 5
}
