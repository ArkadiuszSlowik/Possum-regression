{
 "cells": [
  {
   "cell_type": "code",
   "execution_count": 2,
   "metadata": {},
   "outputs": [],
   "source": [
    "from sklearn.base import BaseEstimator, TransformerMixin\n",
    "import numpy as np"
   ]
  },
  {
   "cell_type": "code",
   "execution_count": 3,
   "metadata": {},
   "outputs": [],
   "source": [
    "class CombinedAttributesAdder(BaseEstimator, TransformerMixin):\n",
    "    \"\"\"\n",
    "    Adds new features by dividing pairs of features.\n",
    "    \"\"\"\n",
    "    def fit(self, X, y=None):\n",
    "        return self\n",
    "    def transform(self, X, y=None):\n",
    "        ratio_cols = []\n",
    "        for i in range(9):\n",
    "            for j in range(i+1,9):\n",
    "                ratio_cols.append(X[:, i] / X[:, j])\n",
    "        ratio_cols = np.array(ratio_cols).T\n",
    "        return np.concatenate((X, ratio_cols), axis=1)"
   ]
  },
  {
   "cell_type": "code",
   "execution_count": 4,
   "metadata": {},
   "outputs": [],
   "source": [
    "class myLabelEncoder(BaseEstimator, TransformerMixin):\n",
    "    \"\"\"\n",
    "    Binary category columns to binary 01.\n",
    "    \"\"\"\n",
    "    def fit(self, X, y=None):\n",
    "        return self\n",
    "    def transform(self, X, y=None):\n",
    "        for col in X.columns:\n",
    "            unique_values = X[col].unique()\n",
    "            mapping_dict = {}\n",
    "            for i in range(len(unique_values)):\n",
    "                mapping_dict[unique_values[i]]=i\n",
    "            X[col].replace(mapping_dict, inplace=True)\n",
    "        return X"
   ]
  }
 ],
 "metadata": {
  "kernelspec": {
   "display_name": "Python 3",
   "language": "python",
   "name": "python3"
  },
  "language_info": {
   "codemirror_mode": {
    "name": "ipython",
    "version": 3
   },
   "file_extension": ".py",
   "mimetype": "text/x-python",
   "name": "python",
   "nbconvert_exporter": "python",
   "pygments_lexer": "ipython3",
   "version": "3.7.3"
  }
 },
 "nbformat": 4,
 "nbformat_minor": 5
}
