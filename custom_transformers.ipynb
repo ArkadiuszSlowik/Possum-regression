{
 "cells": [
  {
   "cell_type": "code",
   "execution_count": null,
   "id": "03c1d489-014f-47e0-b633-aaf6498cf244",
   "metadata": {},
   "outputs": [],
   "source": [
    "from sklearn.base import BaseEstimator, TransformerMixin"
   ]
  },
  {
   "cell_type": "code",
   "execution_count": null,
   "id": "06ddddb2-6290-4cc6-a266-d9c653e06d97",
   "metadata": {},
   "outputs": [],
   "source": [
    "class RatioAttributesAdder(BaseEstimator, TransformerMixin):\n",
    "    def __init__(self):\n",
    "        pass\n",
    "    def fit(self, X, y=None):\n",
    "        return self\n",
    "    def transform(self, X, y=None):\n",
    "        ratio_cols = []\n",
    "        for i in range(9):\n",
    "            for j in range(i+1,9):\n",
    "                ratio_cols.append(X[:, i] / X[:, j])\n",
    "        ratio_cols = np.array(ratio_cols).T\n",
    "        return np.concatenate((X, ratio_cols), axis=1)"
   ]
  }
 ],
 "metadata": {
  "kernelspec": {
   "display_name": "Python 3 (ipykernel)",
   "language": "python",
   "name": "python3"
  },
  "language_info": {
   "codemirror_mode": {
    "name": "ipython",
    "version": 3
   },
   "file_extension": ".py",
   "mimetype": "text/x-python",
   "name": "python",
   "nbconvert_exporter": "python",
   "pygments_lexer": "ipython3",
   "version": "3.9.7"
  }
 },
 "nbformat": 4,
 "nbformat_minor": 5
}
