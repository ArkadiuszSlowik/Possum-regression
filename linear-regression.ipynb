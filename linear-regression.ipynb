{
 "cells": [
  {
   "cell_type": "markdown",
   "metadata": {},
   "source": [
    "The notebook to test different ways of training linear-regression."
   ]
  },
  {
   "cell_type": "code",
   "execution_count": 310,
   "metadata": {},
   "outputs": [],
   "source": [
    "import pandas as pd\n",
    "import numpy as np\n",
    "from sklearn import linear_model\n",
    "from sklearn.pipeline import Pipeline\n",
    "from sklearn.impute import SimpleImputer\n",
    "from sklearn.preprocessing import StandardScaler, OneHotEncoder\n",
    "from sklearn.model_selection import train_test_split\n",
    "from sklearn.compose import ColumnTransformer\n",
    "from sklearn.metrics import mean_squared_error\n",
    "from sklearn.linear_model import LinearRegression, SGDRegressor\n",
    "import random\n",
    "import matplotlib.pyplot as plt\n",
    "\n",
    "%run custom_transformers.ipynb"
   ]
  },
  {
   "cell_type": "code",
   "execution_count": 98,
   "metadata": {},
   "outputs": [],
   "source": [
    "df = pd.read_csv('data/possum.csv')\n",
    "\n",
    "df[\"Pop\"] = df[\"Pop\"].astype('category')\n",
    "df[\"sex\"] = df[\"sex\"].astype('category')\n",
    "df[\"site\"] = df[\"site\"].astype('category')\n",
    "\n",
    "df = df.rename(columns={\"Pop\":\"pop\"})\n",
    "\n",
    "df = df.dropna()\n",
    "\n",
    "del df[\"case\"]"
   ]
  },
  {
   "cell_type": "code",
   "execution_count": 99,
   "metadata": {},
   "outputs": [],
   "source": [
    "train_set, test_set = train_test_split(df, test_size=0.2, random_state=42)\n",
    "\n",
    "train_set_new = train_set.copy()\n",
    "train_set_labels = train_set_new[\"age\"].copy()\n",
    "train_set_new = train_set_new.drop(\"age\", axis=1)"
   ]
  },
  {
   "cell_type": "code",
   "execution_count": 100,
   "metadata": {},
   "outputs": [
    {
     "data": {
      "text/html": [
       "<div>\n",
       "<style scoped>\n",
       "    .dataframe tbody tr th:only-of-type {\n",
       "        vertical-align: middle;\n",
       "    }\n",
       "\n",
       "    .dataframe tbody tr th {\n",
       "        vertical-align: top;\n",
       "    }\n",
       "\n",
       "    .dataframe thead th {\n",
       "        text-align: right;\n",
       "    }\n",
       "</style>\n",
       "<table border=\"1\" class=\"dataframe\">\n",
       "  <thead>\n",
       "    <tr style=\"text-align: right;\">\n",
       "      <th></th>\n",
       "      <th>site</th>\n",
       "      <th>pop</th>\n",
       "      <th>sex</th>\n",
       "      <th>hdlngth</th>\n",
       "      <th>skullw</th>\n",
       "      <th>totlngth</th>\n",
       "      <th>taill</th>\n",
       "      <th>footlgth</th>\n",
       "      <th>earconch</th>\n",
       "      <th>eye</th>\n",
       "      <th>chest</th>\n",
       "      <th>belly</th>\n",
       "    </tr>\n",
       "  </thead>\n",
       "  <tbody>\n",
       "    <tr>\n",
       "      <th>92</th>\n",
       "      <td>7</td>\n",
       "      <td>other</td>\n",
       "      <td>m</td>\n",
       "      <td>89.2</td>\n",
       "      <td>54.0</td>\n",
       "      <td>82.0</td>\n",
       "      <td>38.0</td>\n",
       "      <td>63.8</td>\n",
       "      <td>44.9</td>\n",
       "      <td>12.8</td>\n",
       "      <td>24.0</td>\n",
       "      <td>31.0</td>\n",
       "    </tr>\n",
       "    <tr>\n",
       "      <th>26</th>\n",
       "      <td>1</td>\n",
       "      <td>Vic</td>\n",
       "      <td>f</td>\n",
       "      <td>90.5</td>\n",
       "      <td>54.5</td>\n",
       "      <td>85.0</td>\n",
       "      <td>35.0</td>\n",
       "      <td>70.3</td>\n",
       "      <td>50.8</td>\n",
       "      <td>14.2</td>\n",
       "      <td>23.0</td>\n",
       "      <td>28.0</td>\n",
       "    </tr>\n",
       "    <tr>\n",
       "      <th>44</th>\n",
       "      <td>2</td>\n",
       "      <td>Vic</td>\n",
       "      <td>m</td>\n",
       "      <td>90.7</td>\n",
       "      <td>55.9</td>\n",
       "      <td>81.0</td>\n",
       "      <td>34.0</td>\n",
       "      <td>71.5</td>\n",
       "      <td>54.0</td>\n",
       "      <td>14.6</td>\n",
       "      <td>27.0</td>\n",
       "      <td>31.5</td>\n",
       "    </tr>\n",
       "    <tr>\n",
       "      <th>73</th>\n",
       "      <td>6</td>\n",
       "      <td>other</td>\n",
       "      <td>f</td>\n",
       "      <td>88.7</td>\n",
       "      <td>52.0</td>\n",
       "      <td>83.0</td>\n",
       "      <td>38.0</td>\n",
       "      <td>61.5</td>\n",
       "      <td>45.9</td>\n",
       "      <td>14.7</td>\n",
       "      <td>26.0</td>\n",
       "      <td>34.0</td>\n",
       "    </tr>\n",
       "    <tr>\n",
       "      <th>15</th>\n",
       "      <td>1</td>\n",
       "      <td>Vic</td>\n",
       "      <td>m</td>\n",
       "      <td>91.6</td>\n",
       "      <td>56.0</td>\n",
       "      <td>86.0</td>\n",
       "      <td>34.5</td>\n",
       "      <td>73.0</td>\n",
       "      <td>51.4</td>\n",
       "      <td>14.4</td>\n",
       "      <td>28.0</td>\n",
       "      <td>32.0</td>\n",
       "    </tr>\n",
       "    <tr>\n",
       "      <th>41</th>\n",
       "      <td>2</td>\n",
       "      <td>Vic</td>\n",
       "      <td>m</td>\n",
       "      <td>85.3</td>\n",
       "      <td>54.1</td>\n",
       "      <td>77.0</td>\n",
       "      <td>32.0</td>\n",
       "      <td>62.7</td>\n",
       "      <td>51.2</td>\n",
       "      <td>13.8</td>\n",
       "      <td>25.5</td>\n",
       "      <td>33.0</td>\n",
       "    </tr>\n",
       "    <tr>\n",
       "      <th>75</th>\n",
       "      <td>6</td>\n",
       "      <td>other</td>\n",
       "      <td>m</td>\n",
       "      <td>92.4</td>\n",
       "      <td>56.8</td>\n",
       "      <td>89.0</td>\n",
       "      <td>41.0</td>\n",
       "      <td>64.5</td>\n",
       "      <td>46.4</td>\n",
       "      <td>17.8</td>\n",
       "      <td>26.0</td>\n",
       "      <td>33.0</td>\n",
       "    </tr>\n",
       "    <tr>\n",
       "      <th>9</th>\n",
       "      <td>1</td>\n",
       "      <td>Vic</td>\n",
       "      <td>f</td>\n",
       "      <td>91.8</td>\n",
       "      <td>58.0</td>\n",
       "      <td>89.5</td>\n",
       "      <td>37.5</td>\n",
       "      <td>70.9</td>\n",
       "      <td>53.4</td>\n",
       "      <td>14.4</td>\n",
       "      <td>27.5</td>\n",
       "      <td>32.0</td>\n",
       "    </tr>\n",
       "    <tr>\n",
       "      <th>99</th>\n",
       "      <td>7</td>\n",
       "      <td>other</td>\n",
       "      <td>m</td>\n",
       "      <td>89.5</td>\n",
       "      <td>56.0</td>\n",
       "      <td>81.5</td>\n",
       "      <td>36.5</td>\n",
       "      <td>66.0</td>\n",
       "      <td>46.8</td>\n",
       "      <td>14.8</td>\n",
       "      <td>23.0</td>\n",
       "      <td>27.0</td>\n",
       "    </tr>\n",
       "    <tr>\n",
       "      <th>11</th>\n",
       "      <td>1</td>\n",
       "      <td>Vic</td>\n",
       "      <td>f</td>\n",
       "      <td>94.9</td>\n",
       "      <td>55.6</td>\n",
       "      <td>92.0</td>\n",
       "      <td>35.5</td>\n",
       "      <td>71.7</td>\n",
       "      <td>51.0</td>\n",
       "      <td>15.3</td>\n",
       "      <td>28.0</td>\n",
       "      <td>33.0</td>\n",
       "    </tr>\n",
       "  </tbody>\n",
       "</table>\n",
       "</div>"
      ],
      "text/plain": [
       "   site    pop sex  hdlngth  skullw  totlngth  taill  footlgth  earconch  \\\n",
       "92    7  other   m     89.2    54.0      82.0   38.0      63.8      44.9   \n",
       "26    1    Vic   f     90.5    54.5      85.0   35.0      70.3      50.8   \n",
       "44    2    Vic   m     90.7    55.9      81.0   34.0      71.5      54.0   \n",
       "73    6  other   f     88.7    52.0      83.0   38.0      61.5      45.9   \n",
       "15    1    Vic   m     91.6    56.0      86.0   34.5      73.0      51.4   \n",
       "41    2    Vic   m     85.3    54.1      77.0   32.0      62.7      51.2   \n",
       "75    6  other   m     92.4    56.8      89.0   41.0      64.5      46.4   \n",
       "9     1    Vic   f     91.8    58.0      89.5   37.5      70.9      53.4   \n",
       "99    7  other   m     89.5    56.0      81.5   36.5      66.0      46.8   \n",
       "11    1    Vic   f     94.9    55.6      92.0   35.5      71.7      51.0   \n",
       "\n",
       "     eye  chest  belly  \n",
       "92  12.8   24.0   31.0  \n",
       "26  14.2   23.0   28.0  \n",
       "44  14.6   27.0   31.5  \n",
       "73  14.7   26.0   34.0  \n",
       "15  14.4   28.0   32.0  \n",
       "41  13.8   25.5   33.0  \n",
       "75  17.8   26.0   33.0  \n",
       "9   14.4   27.5   32.0  \n",
       "99  14.8   23.0   27.0  \n",
       "11  15.3   28.0   33.0  "
      ]
     },
     "execution_count": 100,
     "metadata": {},
     "output_type": "execute_result"
    }
   ],
   "source": [
    "num_pipeline = Pipeline([\n",
    "    ('imputer', SimpleImputer(strategy='median')),\n",
    "    ('std_scaler', StandardScaler()),\n",
    "    ])\n",
    "\n",
    "num_attribs = list(set(df.columns).difference(set([\"site\", \"pop\", \"sex\", \"age\"])))\n",
    "cat_attribs = [\"pop\", \"sex\"] \n",
    "\n",
    "pipeline = ColumnTransformer([\n",
    " (\"num\", num_pipeline, num_attribs),\n",
    " (\"cat\", myLabelEncoder() , cat_attribs),\n",
    " (\"site\", OneHotEncoder() , [\"site\"])\n",
    " ])\n",
    "\n",
    "train_set_new.head(10)"
   ]
  },
  {
   "cell_type": "code",
   "execution_count": 101,
   "metadata": {},
   "outputs": [
    {
     "data": {
      "text/plain": [
       "(80, 18)"
      ]
     },
     "execution_count": 101,
     "metadata": {},
     "output_type": "execute_result"
    }
   ],
   "source": [
    "train_set_ready = pipeline.fit_transform(train_set_new)\n",
    "train_set_ready.shape"
   ]
  },
  {
   "cell_type": "code",
   "execution_count": 105,
   "metadata": {},
   "outputs": [],
   "source": [
    "X = train_set_ready.copy()\n",
    "y = np.ravel(train_set_labels.copy())\n",
    "\n",
    "test_set_new = test_set.copy()\n",
    "test_set_new = test_set_new[test_set_new['age'].notna()]\n",
    "test_set_labels = test_set_new[\"age\"].copy()\n",
    "test_set_new = test_set_new.drop(\"age\", axis=1)\n",
    "\n",
    "test_set_new_ready = pipeline.transform(test_set_new)\n",
    "test_set_new_ready.shape\n",
    "\n",
    "X_test, y_test = test_set_new_ready, test_set_labels"
   ]
  },
  {
   "cell_type": "markdown",
   "metadata": {},
   "source": [
    "<h2> Normal Equation </h2>\n",
    "m - number of training instances, n - number of features\n",
    "\n",
    "- fast for large m\n",
    "- no out-of-core support\n",
    "- slow for large n\n",
    "- 0 hyperparameters\n",
    "- no scaling required"
   ]
  },
  {
   "cell_type": "code",
   "execution_count": 138,
   "metadata": {},
   "outputs": [],
   "source": [
    "X_b = np.c_[np.ones((X.shape[0], 1)), X]\n",
    "theta_best = np.linalg.inv(X_b.T.dot(X_b)).dot(X_b.T).dot(y)"
   ]
  },
  {
   "cell_type": "code",
   "execution_count": 139,
   "metadata": {},
   "outputs": [],
   "source": [
    "X_test_b = np.c_[np.ones((X_test.shape[0], 1)), X_test]\n",
    "y_pred = X_test_b.dot(theta_best)"
   ]
  },
  {
   "cell_type": "code",
   "execution_count": 140,
   "metadata": {},
   "outputs": [
    {
     "data": {
      "text/plain": [
       "44.2613509991435"
      ]
     },
     "execution_count": 140,
     "metadata": {},
     "output_type": "execute_result"
    }
   ],
   "source": [
    "mean_squared_error(y_test, y_pred)"
   ]
  },
  {
   "cell_type": "code",
   "execution_count": 141,
   "metadata": {},
   "outputs": [
    {
     "data": {
      "text/plain": [
       "1.3773188026630424e+17"
      ]
     },
     "execution_count": 141,
     "metadata": {},
     "output_type": "execute_result"
    }
   ],
   "source": [
    "np.linalg.cond(X.T.dot(X))"
   ]
  },
  {
   "cell_type": "markdown",
   "metadata": {},
   "source": [
    "The matrix is almost singular, so a computation of its inverse generates lots of numerical errors, that's why mse is that big."
   ]
  },
  {
   "cell_type": "markdown",
   "metadata": {},
   "source": [
    "<h2> SVD </h2>\n",
    "\n",
    "- fast for large m\n",
    "- no out-of-core support\n",
    "- slow for large n\n",
    "- 0 hyperparameters\n",
    "- no scaling required\n",
    "- from sklearn.linear_model import LinearRegression\n",
    "\n",
    "- https://github.com/scikit-learn/scikit-learn/blob/36958fb24/sklearn/linear_model/_base.py#L529"
   ]
  },
  {
   "cell_type": "code",
   "execution_count": 173,
   "metadata": {},
   "outputs": [
    {
     "data": {
      "text/plain": [
       "4.397082988769"
      ]
     },
     "execution_count": 173,
     "metadata": {},
     "output_type": "execute_result"
    }
   ],
   "source": [
    "lin_reg = LinearRegression()\n",
    "lin_reg.fit(X, y)\n",
    "y_pred = lin_reg.predict(X_test)\n",
    "mean_squared_error(y_test, y_pred)"
   ]
  },
  {
   "cell_type": "markdown",
   "metadata": {},
   "source": [
    "<h2> Batch Gradient Descent </h2>\n",
    "\n",
    "- slow for large m\n",
    "- no out-of-core support\n",
    "- fast for large n\n",
    "- 2 hyperparameters\n",
    "- scaling required"
   ]
  },
  {
   "cell_type": "code",
   "execution_count": 318,
   "metadata": {},
   "outputs": [],
   "source": [
    "n_iterations = 500\n",
    "m = X.shape[0]\n",
    "eta = 0.1\n",
    "\n",
    "theta = [0] * (X.shape[1]+1)\n"
   ]
  },
  {
   "cell_type": "code",
   "execution_count": 319,
   "metadata": {},
   "outputs": [],
   "source": [
    "for i in range(n_iterations):\n",
    "    gradient = 2/m * X_b.T.dot(X_b.dot(theta) - y)\n",
    "    theta = theta - eta * gradient\n",
    "\n",
    "theta_best = theta"
   ]
  },
  {
   "cell_type": "code",
   "execution_count": 320,
   "metadata": {},
   "outputs": [
    {
     "data": {
      "text/plain": [
       "4.372434550056197"
      ]
     },
     "execution_count": 320,
     "metadata": {},
     "output_type": "execute_result"
    }
   ],
   "source": [
    "y_pred = X_test_b.dot(theta_best)\n",
    "mean_squared_error(y_test, y_pred)"
   ]
  },
  {
   "cell_type": "markdown",
   "metadata": {},
   "source": [
    "<h2> Stochastic Gradient Descent </h2>\n",
    "\n",
    "- fast for large m\n",
    "- out-of-core support\n",
    "- fast for large n\n",
    "- 2 or more hyperparameters\n",
    "- scaling required\n",
    "- from sklearn.linear_model import SGDRegressor\n",
    "- https://github.com/scikit-learn/scikit-learn/blob/36958fb24/sklearn/linear_model/_stochastic_gradient.py#L1694"
   ]
  },
  {
   "cell_type": "code",
   "execution_count": 321,
   "metadata": {},
   "outputs": [
    {
     "data": {
      "text/plain": [
       "4.465859605894363"
      ]
     },
     "execution_count": 321,
     "metadata": {},
     "output_type": "execute_result"
    }
   ],
   "source": [
    "lin_reg = SGDRegressor()\n",
    "lin_reg.fit(X, y)\n",
    "y_pred = lin_reg.predict(X_test)\n",
    "mean_squared_error(y_test, y_pred)"
   ]
  },
  {
   "cell_type": "code",
   "execution_count": 322,
   "metadata": {},
   "outputs": [],
   "source": [
    "n_epochs = 100\n",
    "t0, t1 = 10, 100\n",
    "theta = [0] * (X.shape[1]+1)\n",
    "eta = 0.1\n",
    "\n",
    "def learning_rate(t):\n",
    "    return t0 / (t + t1)\n",
    "\n",
    "for i in range(n_epochs):\n",
    "    for j in range(m):\n",
    "        random_sample = np.random.randint(0, m)\n",
    "        x_i = X_b[random_sample]\n",
    "        y_i = y[random_sample]\n",
    "        gradient = 2 * x_i.T.dot(x_i.dot(theta) - y_i)\n",
    "        eta = learning_rate(i * m +j)\n",
    "        theta = theta - eta * gradient\n",
    "        \n",
    "theta_best = theta"
   ]
  },
  {
   "cell_type": "code",
   "execution_count": 323,
   "metadata": {},
   "outputs": [
    {
     "data": {
      "text/plain": [
       "4.508150517987433"
      ]
     },
     "execution_count": 323,
     "metadata": {},
     "output_type": "execute_result"
    }
   ],
   "source": [
    "y_pred = X_test_b.dot(theta_best)\n",
    "mean_squared_error(y_test, y_pred)"
   ]
  },
  {
   "cell_type": "markdown",
   "metadata": {},
   "source": [
    "<h2> Mini-batch Gradient Descent </h2>\n",
    "\n",
    "- fast for large m\n",
    "- out-of-core support\n",
    "- fast for large n\n",
    "- 2 or more hyperparameters\n",
    "- scaling required"
   ]
  },
  {
   "cell_type": "code",
   "execution_count": 324,
   "metadata": {},
   "outputs": [],
   "source": [
    "n_epochs = 100\n",
    "t0, t1 = 10, 100\n",
    "theta = [0] * (X.shape[1]+1)\n",
    "batch_size = int(0.1 * m)\n",
    "eta = 0.1\n",
    "\n",
    "for i in range(n_epochs):\n",
    "    for j in range(m):\n",
    "        random_samples = random.sample(range(0, m), batch_size)\n",
    "        x_i = X_b[random_samples]\n",
    "        y_i = y[random_samples]\n",
    "        gradients = 2 / batch_size * x_i.T.dot(x_i.dot(theta) - y_i)\n",
    "        eta = learning_rate(i * m +j)\n",
    "        theta = theta - eta * gradients\n",
    "        \n",
    "theta_best = theta"
   ]
  },
  {
   "cell_type": "code",
   "execution_count": 325,
   "metadata": {},
   "outputs": [
    {
     "data": {
      "text/plain": [
       "4.422054505501228"
      ]
     },
     "execution_count": 325,
     "metadata": {},
     "output_type": "execute_result"
    }
   ],
   "source": [
    "y_pred = X_test_b.dot(theta_best)\n",
    "mean_squared_error(y_test, y_pred)"
   ]
  }
 ],
 "metadata": {
  "kernelspec": {
   "display_name": "Python 3",
   "language": "python",
   "name": "python3"
  },
  "language_info": {
   "codemirror_mode": {
    "name": "ipython",
    "version": 3
   },
   "file_extension": ".py",
   "mimetype": "text/x-python",
   "name": "python",
   "nbconvert_exporter": "python",
   "pygments_lexer": "ipython3",
   "version": "3.7.3"
  }
 },
 "nbformat": 4,
 "nbformat_minor": 2
}
